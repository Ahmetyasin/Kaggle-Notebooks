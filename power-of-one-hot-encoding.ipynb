{
 "cells": [
  {
   "cell_type": "markdown",
   "id": "0ef7e800",
   "metadata": {
    "papermill": {
     "duration": 0.012588,
     "end_time": "2023-08-23T14:04:16.520132",
     "exception": false,
     "start_time": "2023-08-23T14:04:16.507544",
     "status": "completed"
    },
    "tags": []
   },
   "source": [
    "Hi, this notebook is aimed to show the power of one-hot encoding in classification models. Instead of dumping all kinds of variables into one classification model, carefully chosen categorical variables are much more effective while building classification models. Not just converting ordinal and nominal variables into binary variables, but also converting numerical and continous variables into binary variables by carefully chosen thresholds can help a lot for the model to grasp the trends in the data."
   ]
  },
  {
   "cell_type": "code",
   "execution_count": 1,
   "id": "3a2e6757",
   "metadata": {
    "execution": {
     "iopub.execute_input": "2023-08-23T14:04:16.542522Z",
     "iopub.status.busy": "2023-08-23T14:04:16.542130Z",
     "iopub.status.idle": "2023-08-23T14:04:18.254125Z",
     "shell.execute_reply": "2023-08-23T14:04:18.253183Z"
    },
    "papermill": {
     "duration": 1.726243,
     "end_time": "2023-08-23T14:04:18.256781",
     "exception": false,
     "start_time": "2023-08-23T14:04:16.530538",
     "status": "completed"
    },
    "tags": []
   },
   "outputs": [
    {
     "name": "stderr",
     "output_type": "stream",
     "text": [
      "/opt/conda/lib/python3.10/site-packages/scipy/__init__.py:146: UserWarning: A NumPy version >=1.16.5 and <1.23.0 is required for this version of SciPy (detected version 1.23.5\n",
      "  warnings.warn(f\"A NumPy version >={np_minversion} and <{np_maxversion}\"\n"
     ]
    }
   ],
   "source": [
    "import pandas as pd\n",
    "import numpy as np\n",
    "import matplotlib.pyplot as plt\n",
    "from sklearn.model_selection import train_test_split\n",
    "from sklearn.ensemble import RandomForestClassifier\n",
    "from sklearn.metrics import accuracy_score, classification_report, confusion_matrix\n",
    "from sklearn.cluster import KMeans\n",
    "from sklearn.preprocessing import StandardScaler\n",
    "from sklearn.metrics import silhouette_score\n",
    "import warnings\n",
    "warnings.filterwarnings('ignore')"
   ]
  },
  {
   "cell_type": "code",
   "execution_count": 2,
   "id": "46be3f79",
   "metadata": {
    "execution": {
     "iopub.execute_input": "2023-08-23T14:04:18.278913Z",
     "iopub.status.busy": "2023-08-23T14:04:18.278554Z",
     "iopub.status.idle": "2023-08-23T14:04:18.317680Z",
     "shell.execute_reply": "2023-08-23T14:04:18.316567Z"
    },
    "papermill": {
     "duration": 0.053127,
     "end_time": "2023-08-23T14:04:18.320330",
     "exception": false,
     "start_time": "2023-08-23T14:04:18.267203",
     "status": "completed"
    },
    "tags": []
   },
   "outputs": [],
   "source": [
    "# Importing datasets\n",
    "train = pd.read_csv(\"/kaggle/input/titanic/train.csv\")\n",
    "\n",
    "test = pd.read_csv(\"/kaggle/input/titanic/test.csv\")\n",
    "\n",
    "gender_submission = pd.read_csv(\"/kaggle/input/titanic/gender_submission.csv\")"
   ]
  },
  {
   "cell_type": "markdown",
   "id": "9d1f6f6c",
   "metadata": {
    "papermill": {
     "duration": 0.01026,
     "end_time": "2023-08-23T14:04:18.341345",
     "exception": false,
     "start_time": "2023-08-23T14:04:18.331085",
     "status": "completed"
    },
    "tags": []
   },
   "source": [
    "## 1. Data Exploration and Data Cleaning/Filling"
   ]
  },
  {
   "cell_type": "code",
   "execution_count": 3,
   "id": "96cd5eb5",
   "metadata": {
    "execution": {
     "iopub.execute_input": "2023-08-23T14:04:18.363083Z",
     "iopub.status.busy": "2023-08-23T14:04:18.362663Z",
     "iopub.status.idle": "2023-08-23T14:04:18.409462Z",
     "shell.execute_reply": "2023-08-23T14:04:18.408433Z"
    },
    "papermill": {
     "duration": 0.060474,
     "end_time": "2023-08-23T14:04:18.411961",
     "exception": false,
     "start_time": "2023-08-23T14:04:18.351487",
     "status": "completed"
    },
    "tags": []
   },
   "outputs": [
    {
     "data": {
      "text/html": [
       "<div>\n",
       "<style scoped>\n",
       "    .dataframe tbody tr th:only-of-type {\n",
       "        vertical-align: middle;\n",
       "    }\n",
       "\n",
       "    .dataframe tbody tr th {\n",
       "        vertical-align: top;\n",
       "    }\n",
       "\n",
       "    .dataframe thead th {\n",
       "        text-align: right;\n",
       "    }\n",
       "</style>\n",
       "<table border=\"1\" class=\"dataframe\">\n",
       "  <thead>\n",
       "    <tr style=\"text-align: right;\">\n",
       "      <th></th>\n",
       "      <th>PassengerId</th>\n",
       "      <th>Survived</th>\n",
       "      <th>Pclass</th>\n",
       "      <th>Age</th>\n",
       "      <th>SibSp</th>\n",
       "      <th>Parch</th>\n",
       "      <th>Fare</th>\n",
       "    </tr>\n",
       "  </thead>\n",
       "  <tbody>\n",
       "    <tr>\n",
       "      <th>count</th>\n",
       "      <td>891.000000</td>\n",
       "      <td>891.000000</td>\n",
       "      <td>891.000000</td>\n",
       "      <td>714.000000</td>\n",
       "      <td>891.000000</td>\n",
       "      <td>891.000000</td>\n",
       "      <td>891.000000</td>\n",
       "    </tr>\n",
       "    <tr>\n",
       "      <th>mean</th>\n",
       "      <td>446.000000</td>\n",
       "      <td>0.383838</td>\n",
       "      <td>2.308642</td>\n",
       "      <td>29.699118</td>\n",
       "      <td>0.523008</td>\n",
       "      <td>0.381594</td>\n",
       "      <td>32.204208</td>\n",
       "    </tr>\n",
       "    <tr>\n",
       "      <th>std</th>\n",
       "      <td>257.353842</td>\n",
       "      <td>0.486592</td>\n",
       "      <td>0.836071</td>\n",
       "      <td>14.526497</td>\n",
       "      <td>1.102743</td>\n",
       "      <td>0.806057</td>\n",
       "      <td>49.693429</td>\n",
       "    </tr>\n",
       "    <tr>\n",
       "      <th>min</th>\n",
       "      <td>1.000000</td>\n",
       "      <td>0.000000</td>\n",
       "      <td>1.000000</td>\n",
       "      <td>0.420000</td>\n",
       "      <td>0.000000</td>\n",
       "      <td>0.000000</td>\n",
       "      <td>0.000000</td>\n",
       "    </tr>\n",
       "    <tr>\n",
       "      <th>25%</th>\n",
       "      <td>223.500000</td>\n",
       "      <td>0.000000</td>\n",
       "      <td>2.000000</td>\n",
       "      <td>20.125000</td>\n",
       "      <td>0.000000</td>\n",
       "      <td>0.000000</td>\n",
       "      <td>7.910400</td>\n",
       "    </tr>\n",
       "    <tr>\n",
       "      <th>50%</th>\n",
       "      <td>446.000000</td>\n",
       "      <td>0.000000</td>\n",
       "      <td>3.000000</td>\n",
       "      <td>28.000000</td>\n",
       "      <td>0.000000</td>\n",
       "      <td>0.000000</td>\n",
       "      <td>14.454200</td>\n",
       "    </tr>\n",
       "    <tr>\n",
       "      <th>75%</th>\n",
       "      <td>668.500000</td>\n",
       "      <td>1.000000</td>\n",
       "      <td>3.000000</td>\n",
       "      <td>38.000000</td>\n",
       "      <td>1.000000</td>\n",
       "      <td>0.000000</td>\n",
       "      <td>31.000000</td>\n",
       "    </tr>\n",
       "    <tr>\n",
       "      <th>max</th>\n",
       "      <td>891.000000</td>\n",
       "      <td>1.000000</td>\n",
       "      <td>3.000000</td>\n",
       "      <td>80.000000</td>\n",
       "      <td>8.000000</td>\n",
       "      <td>6.000000</td>\n",
       "      <td>512.329200</td>\n",
       "    </tr>\n",
       "  </tbody>\n",
       "</table>\n",
       "</div>"
      ],
      "text/plain": [
       "       PassengerId    Survived      Pclass         Age       SibSp  \\\n",
       "count   891.000000  891.000000  891.000000  714.000000  891.000000   \n",
       "mean    446.000000    0.383838    2.308642   29.699118    0.523008   \n",
       "std     257.353842    0.486592    0.836071   14.526497    1.102743   \n",
       "min       1.000000    0.000000    1.000000    0.420000    0.000000   \n",
       "25%     223.500000    0.000000    2.000000   20.125000    0.000000   \n",
       "50%     446.000000    0.000000    3.000000   28.000000    0.000000   \n",
       "75%     668.500000    1.000000    3.000000   38.000000    1.000000   \n",
       "max     891.000000    1.000000    3.000000   80.000000    8.000000   \n",
       "\n",
       "            Parch        Fare  \n",
       "count  891.000000  891.000000  \n",
       "mean     0.381594   32.204208  \n",
       "std      0.806057   49.693429  \n",
       "min      0.000000    0.000000  \n",
       "25%      0.000000    7.910400  \n",
       "50%      0.000000   14.454200  \n",
       "75%      0.000000   31.000000  \n",
       "max      6.000000  512.329200  "
      ]
     },
     "execution_count": 3,
     "metadata": {},
     "output_type": "execute_result"
    }
   ],
   "source": [
    "train.describe()"
   ]
  },
  {
   "cell_type": "code",
   "execution_count": 4,
   "id": "aa873479",
   "metadata": {
    "execution": {
     "iopub.execute_input": "2023-08-23T14:04:18.434915Z",
     "iopub.status.busy": "2023-08-23T14:04:18.434555Z",
     "iopub.status.idle": "2023-08-23T14:04:18.457467Z",
     "shell.execute_reply": "2023-08-23T14:04:18.456198Z"
    },
    "papermill": {
     "duration": 0.037155,
     "end_time": "2023-08-23T14:04:18.459908",
     "exception": false,
     "start_time": "2023-08-23T14:04:18.422753",
     "status": "completed"
    },
    "tags": []
   },
   "outputs": [
    {
     "name": "stdout",
     "output_type": "stream",
     "text": [
      "<class 'pandas.core.frame.DataFrame'>\n",
      "RangeIndex: 891 entries, 0 to 890\n",
      "Data columns (total 12 columns):\n",
      " #   Column       Non-Null Count  Dtype  \n",
      "---  ------       --------------  -----  \n",
      " 0   PassengerId  891 non-null    int64  \n",
      " 1   Survived     891 non-null    int64  \n",
      " 2   Pclass       891 non-null    int64  \n",
      " 3   Name         891 non-null    object \n",
      " 4   Sex          891 non-null    object \n",
      " 5   Age          714 non-null    float64\n",
      " 6   SibSp        891 non-null    int64  \n",
      " 7   Parch        891 non-null    int64  \n",
      " 8   Ticket       891 non-null    object \n",
      " 9   Fare         891 non-null    float64\n",
      " 10  Cabin        204 non-null    object \n",
      " 11  Embarked     889 non-null    object \n",
      "dtypes: float64(2), int64(5), object(5)\n",
      "memory usage: 83.7+ KB\n"
     ]
    }
   ],
   "source": [
    "train.info()"
   ]
  },
  {
   "cell_type": "code",
   "execution_count": 5,
   "id": "9dc53b20",
   "metadata": {
    "execution": {
     "iopub.execute_input": "2023-08-23T14:04:18.483605Z",
     "iopub.status.busy": "2023-08-23T14:04:18.482845Z",
     "iopub.status.idle": "2023-08-23T14:04:18.493083Z",
     "shell.execute_reply": "2023-08-23T14:04:18.492072Z"
    },
    "papermill": {
     "duration": 0.024294,
     "end_time": "2023-08-23T14:04:18.495230",
     "exception": false,
     "start_time": "2023-08-23T14:04:18.470936",
     "status": "completed"
    },
    "tags": []
   },
   "outputs": [
    {
     "data": {
      "text/plain": [
       "PassengerId      0\n",
       "Survived         0\n",
       "Pclass           0\n",
       "Name             0\n",
       "Sex              0\n",
       "Age            177\n",
       "SibSp            0\n",
       "Parch            0\n",
       "Ticket           0\n",
       "Fare             0\n",
       "Cabin          687\n",
       "Embarked         2\n",
       "dtype: int64"
      ]
     },
     "execution_count": 5,
     "metadata": {},
     "output_type": "execute_result"
    }
   ],
   "source": [
    "train.isnull().sum()"
   ]
  },
  {
   "cell_type": "markdown",
   "id": "5a7149f9",
   "metadata": {
    "papermill": {
     "duration": 0.01065,
     "end_time": "2023-08-23T14:04:18.517063",
     "exception": false,
     "start_time": "2023-08-23T14:04:18.506413",
     "status": "completed"
    },
    "tags": []
   },
   "source": [
    "There are 177 empty records in Age column, which seems to be an important feature."
   ]
  },
  {
   "cell_type": "code",
   "execution_count": 6,
   "id": "8af0919b",
   "metadata": {
    "execution": {
     "iopub.execute_input": "2023-08-23T14:04:18.540767Z",
     "iopub.status.busy": "2023-08-23T14:04:18.540149Z",
     "iopub.status.idle": "2023-08-23T14:04:18.558446Z",
     "shell.execute_reply": "2023-08-23T14:04:18.557279Z"
    },
    "papermill": {
     "duration": 0.032992,
     "end_time": "2023-08-23T14:04:18.560899",
     "exception": false,
     "start_time": "2023-08-23T14:04:18.527907",
     "status": "completed"
    },
    "tags": []
   },
   "outputs": [
    {
     "data": {
      "text/html": [
       "<div>\n",
       "<style scoped>\n",
       "    .dataframe tbody tr th:only-of-type {\n",
       "        vertical-align: middle;\n",
       "    }\n",
       "\n",
       "    .dataframe tbody tr th {\n",
       "        vertical-align: top;\n",
       "    }\n",
       "\n",
       "    .dataframe thead th {\n",
       "        text-align: right;\n",
       "    }\n",
       "</style>\n",
       "<table border=\"1\" class=\"dataframe\">\n",
       "  <thead>\n",
       "    <tr style=\"text-align: right;\">\n",
       "      <th></th>\n",
       "      <th>PassengerId</th>\n",
       "      <th>Survived</th>\n",
       "      <th>Pclass</th>\n",
       "      <th>Age</th>\n",
       "      <th>SibSp</th>\n",
       "      <th>Parch</th>\n",
       "      <th>Fare</th>\n",
       "    </tr>\n",
       "  </thead>\n",
       "  <tbody>\n",
       "    <tr>\n",
       "      <th>PassengerId</th>\n",
       "      <td>1.000000</td>\n",
       "      <td>-0.005007</td>\n",
       "      <td>-0.035144</td>\n",
       "      <td>0.036847</td>\n",
       "      <td>-0.057527</td>\n",
       "      <td>-0.001652</td>\n",
       "      <td>0.012658</td>\n",
       "    </tr>\n",
       "    <tr>\n",
       "      <th>Survived</th>\n",
       "      <td>-0.005007</td>\n",
       "      <td>1.000000</td>\n",
       "      <td>-0.338481</td>\n",
       "      <td>-0.077221</td>\n",
       "      <td>-0.035322</td>\n",
       "      <td>0.081629</td>\n",
       "      <td>0.257307</td>\n",
       "    </tr>\n",
       "    <tr>\n",
       "      <th>Pclass</th>\n",
       "      <td>-0.035144</td>\n",
       "      <td>-0.338481</td>\n",
       "      <td>1.000000</td>\n",
       "      <td>-0.369226</td>\n",
       "      <td>0.083081</td>\n",
       "      <td>0.018443</td>\n",
       "      <td>-0.549500</td>\n",
       "    </tr>\n",
       "    <tr>\n",
       "      <th>Age</th>\n",
       "      <td>0.036847</td>\n",
       "      <td>-0.077221</td>\n",
       "      <td>-0.369226</td>\n",
       "      <td>1.000000</td>\n",
       "      <td>-0.308247</td>\n",
       "      <td>-0.189119</td>\n",
       "      <td>0.096067</td>\n",
       "    </tr>\n",
       "    <tr>\n",
       "      <th>SibSp</th>\n",
       "      <td>-0.057527</td>\n",
       "      <td>-0.035322</td>\n",
       "      <td>0.083081</td>\n",
       "      <td>-0.308247</td>\n",
       "      <td>1.000000</td>\n",
       "      <td>0.414838</td>\n",
       "      <td>0.159651</td>\n",
       "    </tr>\n",
       "    <tr>\n",
       "      <th>Parch</th>\n",
       "      <td>-0.001652</td>\n",
       "      <td>0.081629</td>\n",
       "      <td>0.018443</td>\n",
       "      <td>-0.189119</td>\n",
       "      <td>0.414838</td>\n",
       "      <td>1.000000</td>\n",
       "      <td>0.216225</td>\n",
       "    </tr>\n",
       "    <tr>\n",
       "      <th>Fare</th>\n",
       "      <td>0.012658</td>\n",
       "      <td>0.257307</td>\n",
       "      <td>-0.549500</td>\n",
       "      <td>0.096067</td>\n",
       "      <td>0.159651</td>\n",
       "      <td>0.216225</td>\n",
       "      <td>1.000000</td>\n",
       "    </tr>\n",
       "  </tbody>\n",
       "</table>\n",
       "</div>"
      ],
      "text/plain": [
       "             PassengerId  Survived    Pclass       Age     SibSp     Parch  \\\n",
       "PassengerId     1.000000 -0.005007 -0.035144  0.036847 -0.057527 -0.001652   \n",
       "Survived       -0.005007  1.000000 -0.338481 -0.077221 -0.035322  0.081629   \n",
       "Pclass         -0.035144 -0.338481  1.000000 -0.369226  0.083081  0.018443   \n",
       "Age             0.036847 -0.077221 -0.369226  1.000000 -0.308247 -0.189119   \n",
       "SibSp          -0.057527 -0.035322  0.083081 -0.308247  1.000000  0.414838   \n",
       "Parch          -0.001652  0.081629  0.018443 -0.189119  0.414838  1.000000   \n",
       "Fare            0.012658  0.257307 -0.549500  0.096067  0.159651  0.216225   \n",
       "\n",
       "                 Fare  \n",
       "PassengerId  0.012658  \n",
       "Survived     0.257307  \n",
       "Pclass      -0.549500  \n",
       "Age          0.096067  \n",
       "SibSp        0.159651  \n",
       "Parch        0.216225  \n",
       "Fare         1.000000  "
      ]
     },
     "execution_count": 6,
     "metadata": {},
     "output_type": "execute_result"
    }
   ],
   "source": [
    "train.corr(numeric_only=True)"
   ]
  },
  {
   "cell_type": "markdown",
   "id": "cf58ad8e",
   "metadata": {
    "papermill": {
     "duration": 0.011352,
     "end_time": "2023-08-23T14:04:18.584160",
     "exception": false,
     "start_time": "2023-08-23T14:04:18.572808",
     "status": "completed"
    },
    "tags": []
   },
   "source": [
    "It is seen that age variable is very correlated with Pclass. So, in order to fill out the empty age values, we can take advantage of this feature. We can fill out the empty age values with the average age for the corresponding Pclass subset."
   ]
  },
  {
   "cell_type": "code",
   "execution_count": 7,
   "id": "3c19287f",
   "metadata": {
    "execution": {
     "iopub.execute_input": "2023-08-23T14:04:18.610531Z",
     "iopub.status.busy": "2023-08-23T14:04:18.609859Z",
     "iopub.status.idle": "2023-08-23T14:04:18.620183Z",
     "shell.execute_reply": "2023-08-23T14:04:18.619219Z"
    },
    "papermill": {
     "duration": 0.026809,
     "end_time": "2023-08-23T14:04:18.622766",
     "exception": false,
     "start_time": "2023-08-23T14:04:18.595957",
     "status": "completed"
    },
    "tags": []
   },
   "outputs": [],
   "source": [
    "# Defining the dictionary for 3 different Pclasses to keep the average ages\n",
    "Class_to_Age = train[~train[\"Age\"].isna()].groupby(\"Pclass\")[\"Age\"].agg(lambda x: np.mean(x)).to_dict()"
   ]
  },
  {
   "cell_type": "code",
   "execution_count": 8,
   "id": "0244f311",
   "metadata": {
    "execution": {
     "iopub.execute_input": "2023-08-23T14:04:18.647704Z",
     "iopub.status.busy": "2023-08-23T14:04:18.647333Z",
     "iopub.status.idle": "2023-08-23T14:04:18.654017Z",
     "shell.execute_reply": "2023-08-23T14:04:18.652953Z"
    },
    "papermill": {
     "duration": 0.02197,
     "end_time": "2023-08-23T14:04:18.656366",
     "exception": false,
     "start_time": "2023-08-23T14:04:18.634396",
     "status": "completed"
    },
    "tags": []
   },
   "outputs": [
    {
     "data": {
      "text/plain": [
       "{1: 38.233440860215055, 2: 29.87763005780347, 3: 25.14061971830986}"
      ]
     },
     "execution_count": 8,
     "metadata": {},
     "output_type": "execute_result"
    }
   ],
   "source": [
    "Class_to_Age"
   ]
  },
  {
   "cell_type": "code",
   "execution_count": 9,
   "id": "b9c56fc1",
   "metadata": {
    "execution": {
     "iopub.execute_input": "2023-08-23T14:04:18.681273Z",
     "iopub.status.busy": "2023-08-23T14:04:18.680778Z",
     "iopub.status.idle": "2023-08-23T14:04:18.751126Z",
     "shell.execute_reply": "2023-08-23T14:04:18.750281Z"
    },
    "papermill": {
     "duration": 0.085601,
     "end_time": "2023-08-23T14:04:18.753579",
     "exception": false,
     "start_time": "2023-08-23T14:04:18.667978",
     "status": "completed"
    },
    "tags": []
   },
   "outputs": [],
   "source": [
    "#Filling the empty ages with the average values obtained from Class_to_Age\n",
    "train.fillna(0,inplace =True)\n",
    "\n",
    "train[\"Age\"] = train.apply(lambda x: x if x[\"Age\"] != 0 else Class_to_Age[x[\"Pclass\"]],axis = 1)[\"Age\"]"
   ]
  },
  {
   "cell_type": "code",
   "execution_count": 10,
   "id": "0c8b26dc",
   "metadata": {
    "execution": {
     "iopub.execute_input": "2023-08-23T14:04:18.779882Z",
     "iopub.status.busy": "2023-08-23T14:04:18.778971Z",
     "iopub.status.idle": "2023-08-23T14:04:18.797847Z",
     "shell.execute_reply": "2023-08-23T14:04:18.797070Z"
    },
    "papermill": {
     "duration": 0.034214,
     "end_time": "2023-08-23T14:04:18.800140",
     "exception": false,
     "start_time": "2023-08-23T14:04:18.765926",
     "status": "completed"
    },
    "tags": []
   },
   "outputs": [
    {
     "data": {
      "text/html": [
       "<div>\n",
       "<style scoped>\n",
       "    .dataframe tbody tr th:only-of-type {\n",
       "        vertical-align: middle;\n",
       "    }\n",
       "\n",
       "    .dataframe tbody tr th {\n",
       "        vertical-align: top;\n",
       "    }\n",
       "\n",
       "    .dataframe thead th {\n",
       "        text-align: right;\n",
       "    }\n",
       "</style>\n",
       "<table border=\"1\" class=\"dataframe\">\n",
       "  <thead>\n",
       "    <tr style=\"text-align: right;\">\n",
       "      <th></th>\n",
       "      <th>PassengerId</th>\n",
       "      <th>Survived</th>\n",
       "      <th>Pclass</th>\n",
       "      <th>Name</th>\n",
       "      <th>Sex</th>\n",
       "      <th>Age</th>\n",
       "      <th>SibSp</th>\n",
       "      <th>Parch</th>\n",
       "      <th>Ticket</th>\n",
       "      <th>Fare</th>\n",
       "      <th>Cabin</th>\n",
       "      <th>Embarked</th>\n",
       "    </tr>\n",
       "  </thead>\n",
       "  <tbody>\n",
       "    <tr>\n",
       "      <th>0</th>\n",
       "      <td>1</td>\n",
       "      <td>0</td>\n",
       "      <td>3</td>\n",
       "      <td>Braund, Mr. Owen Harris</td>\n",
       "      <td>male</td>\n",
       "      <td>22.0</td>\n",
       "      <td>1</td>\n",
       "      <td>0</td>\n",
       "      <td>A/5 21171</td>\n",
       "      <td>7.2500</td>\n",
       "      <td>0</td>\n",
       "      <td>S</td>\n",
       "    </tr>\n",
       "    <tr>\n",
       "      <th>1</th>\n",
       "      <td>2</td>\n",
       "      <td>1</td>\n",
       "      <td>1</td>\n",
       "      <td>Cumings, Mrs. John Bradley (Florence Briggs Th...</td>\n",
       "      <td>female</td>\n",
       "      <td>38.0</td>\n",
       "      <td>1</td>\n",
       "      <td>0</td>\n",
       "      <td>PC 17599</td>\n",
       "      <td>71.2833</td>\n",
       "      <td>C85</td>\n",
       "      <td>C</td>\n",
       "    </tr>\n",
       "    <tr>\n",
       "      <th>2</th>\n",
       "      <td>3</td>\n",
       "      <td>1</td>\n",
       "      <td>3</td>\n",
       "      <td>Heikkinen, Miss. Laina</td>\n",
       "      <td>female</td>\n",
       "      <td>26.0</td>\n",
       "      <td>0</td>\n",
       "      <td>0</td>\n",
       "      <td>STON/O2. 3101282</td>\n",
       "      <td>7.9250</td>\n",
       "      <td>0</td>\n",
       "      <td>S</td>\n",
       "    </tr>\n",
       "    <tr>\n",
       "      <th>3</th>\n",
       "      <td>4</td>\n",
       "      <td>1</td>\n",
       "      <td>1</td>\n",
       "      <td>Futrelle, Mrs. Jacques Heath (Lily May Peel)</td>\n",
       "      <td>female</td>\n",
       "      <td>35.0</td>\n",
       "      <td>1</td>\n",
       "      <td>0</td>\n",
       "      <td>113803</td>\n",
       "      <td>53.1000</td>\n",
       "      <td>C123</td>\n",
       "      <td>S</td>\n",
       "    </tr>\n",
       "    <tr>\n",
       "      <th>4</th>\n",
       "      <td>5</td>\n",
       "      <td>0</td>\n",
       "      <td>3</td>\n",
       "      <td>Allen, Mr. William Henry</td>\n",
       "      <td>male</td>\n",
       "      <td>35.0</td>\n",
       "      <td>0</td>\n",
       "      <td>0</td>\n",
       "      <td>373450</td>\n",
       "      <td>8.0500</td>\n",
       "      <td>0</td>\n",
       "      <td>S</td>\n",
       "    </tr>\n",
       "  </tbody>\n",
       "</table>\n",
       "</div>"
      ],
      "text/plain": [
       "   PassengerId  Survived  Pclass  \\\n",
       "0            1         0       3   \n",
       "1            2         1       1   \n",
       "2            3         1       3   \n",
       "3            4         1       1   \n",
       "4            5         0       3   \n",
       "\n",
       "                                                Name     Sex   Age  SibSp  \\\n",
       "0                            Braund, Mr. Owen Harris    male  22.0      1   \n",
       "1  Cumings, Mrs. John Bradley (Florence Briggs Th...  female  38.0      1   \n",
       "2                             Heikkinen, Miss. Laina  female  26.0      0   \n",
       "3       Futrelle, Mrs. Jacques Heath (Lily May Peel)  female  35.0      1   \n",
       "4                           Allen, Mr. William Henry    male  35.0      0   \n",
       "\n",
       "   Parch            Ticket     Fare Cabin Embarked  \n",
       "0      0         A/5 21171   7.2500     0        S  \n",
       "1      0          PC 17599  71.2833   C85        C  \n",
       "2      0  STON/O2. 3101282   7.9250     0        S  \n",
       "3      0            113803  53.1000  C123        S  \n",
       "4      0            373450   8.0500     0        S  "
      ]
     },
     "execution_count": 10,
     "metadata": {},
     "output_type": "execute_result"
    }
   ],
   "source": [
    "train.head()"
   ]
  },
  {
   "cell_type": "markdown",
   "id": "16a83b67",
   "metadata": {
    "papermill": {
     "duration": 0.012011,
     "end_time": "2023-08-23T14:04:18.824228",
     "exception": false,
     "start_time": "2023-08-23T14:04:18.812217",
     "status": "completed"
    },
    "tags": []
   },
   "source": [
    "Before converting everything into binary variables, one might think that instead of converting all variables into different columns with one-hot-encoding, why don't we combine some variables into one group. For example instead of adding 7 features for different kinds of Patch, why don't we convert it into two features as one feature indicating \"Is Patch number equal to 0\" and other feature indicating \"Is Patch number greater than 0\". Let's analyze this."
   ]
  },
  {
   "cell_type": "code",
   "execution_count": 11,
   "id": "963cc6df",
   "metadata": {
    "execution": {
     "iopub.execute_input": "2023-08-23T14:04:18.850498Z",
     "iopub.status.busy": "2023-08-23T14:04:18.849341Z",
     "iopub.status.idle": "2023-08-23T14:04:18.854913Z",
     "shell.execute_reply": "2023-08-23T14:04:18.854094Z"
    },
    "papermill": {
     "duration": 0.020927,
     "end_time": "2023-08-23T14:04:18.857170",
     "exception": false,
     "start_time": "2023-08-23T14:04:18.836243",
     "status": "completed"
    },
    "tags": []
   },
   "outputs": [],
   "source": [
    "# Defining the function to calculate the ratio of survivors for different groups of Parch and SibSp\n",
    "def calc_rate(group):\n",
    "    num_ones = group['Survived'][group['Survived'] == 1].size\n",
    "    denom = group['Survived'].size\n",
    "    return num_ones / denom\n"
   ]
  },
  {
   "cell_type": "code",
   "execution_count": 12,
   "id": "6c90937d",
   "metadata": {
    "execution": {
     "iopub.execute_input": "2023-08-23T14:04:18.882983Z",
     "iopub.status.busy": "2023-08-23T14:04:18.882394Z",
     "iopub.status.idle": "2023-08-23T14:04:18.897037Z",
     "shell.execute_reply": "2023-08-23T14:04:18.895715Z"
    },
    "papermill": {
     "duration": 0.03028,
     "end_time": "2023-08-23T14:04:18.899435",
     "exception": false,
     "start_time": "2023-08-23T14:04:18.869155",
     "status": "completed"
    },
    "tags": []
   },
   "outputs": [
    {
     "data": {
      "text/html": [
       "<div>\n",
       "<style scoped>\n",
       "    .dataframe tbody tr th:only-of-type {\n",
       "        vertical-align: middle;\n",
       "    }\n",
       "\n",
       "    .dataframe tbody tr th {\n",
       "        vertical-align: top;\n",
       "    }\n",
       "\n",
       "    .dataframe thead th {\n",
       "        text-align: right;\n",
       "    }\n",
       "</style>\n",
       "<table border=\"1\" class=\"dataframe\">\n",
       "  <thead>\n",
       "    <tr style=\"text-align: right;\">\n",
       "      <th></th>\n",
       "      <th>Parch</th>\n",
       "      <th>Survival Rate</th>\n",
       "    </tr>\n",
       "  </thead>\n",
       "  <tbody>\n",
       "    <tr>\n",
       "      <th>0</th>\n",
       "      <td>0</td>\n",
       "      <td>0.343658</td>\n",
       "    </tr>\n",
       "    <tr>\n",
       "      <th>1</th>\n",
       "      <td>1</td>\n",
       "      <td>0.550847</td>\n",
       "    </tr>\n",
       "    <tr>\n",
       "      <th>2</th>\n",
       "      <td>2</td>\n",
       "      <td>0.500000</td>\n",
       "    </tr>\n",
       "    <tr>\n",
       "      <th>3</th>\n",
       "      <td>3</td>\n",
       "      <td>0.600000</td>\n",
       "    </tr>\n",
       "    <tr>\n",
       "      <th>4</th>\n",
       "      <td>4</td>\n",
       "      <td>0.000000</td>\n",
       "    </tr>\n",
       "    <tr>\n",
       "      <th>5</th>\n",
       "      <td>5</td>\n",
       "      <td>0.200000</td>\n",
       "    </tr>\n",
       "    <tr>\n",
       "      <th>6</th>\n",
       "      <td>6</td>\n",
       "      <td>0.000000</td>\n",
       "    </tr>\n",
       "  </tbody>\n",
       "</table>\n",
       "</div>"
      ],
      "text/plain": [
       "   Parch  Survival Rate\n",
       "0      0       0.343658\n",
       "1      1       0.550847\n",
       "2      2       0.500000\n",
       "3      3       0.600000\n",
       "4      4       0.000000\n",
       "5      5       0.200000\n",
       "6      6       0.000000"
      ]
     },
     "execution_count": 12,
     "metadata": {},
     "output_type": "execute_result"
    }
   ],
   "source": [
    "train.groupby('Parch').apply(calc_rate).to_frame(\"Survival Rate\").reset_index()"
   ]
  },
  {
   "cell_type": "code",
   "execution_count": 13,
   "id": "549c0b78",
   "metadata": {
    "execution": {
     "iopub.execute_input": "2023-08-23T14:04:18.925448Z",
     "iopub.status.busy": "2023-08-23T14:04:18.925056Z",
     "iopub.status.idle": "2023-08-23T14:04:18.939216Z",
     "shell.execute_reply": "2023-08-23T14:04:18.938463Z"
    },
    "papermill": {
     "duration": 0.029614,
     "end_time": "2023-08-23T14:04:18.941275",
     "exception": false,
     "start_time": "2023-08-23T14:04:18.911661",
     "status": "completed"
    },
    "tags": []
   },
   "outputs": [
    {
     "data": {
      "text/html": [
       "<div>\n",
       "<style scoped>\n",
       "    .dataframe tbody tr th:only-of-type {\n",
       "        vertical-align: middle;\n",
       "    }\n",
       "\n",
       "    .dataframe tbody tr th {\n",
       "        vertical-align: top;\n",
       "    }\n",
       "\n",
       "    .dataframe thead th {\n",
       "        text-align: right;\n",
       "    }\n",
       "</style>\n",
       "<table border=\"1\" class=\"dataframe\">\n",
       "  <thead>\n",
       "    <tr style=\"text-align: right;\">\n",
       "      <th></th>\n",
       "      <th>SibSp</th>\n",
       "      <th>Survival Rate</th>\n",
       "    </tr>\n",
       "  </thead>\n",
       "  <tbody>\n",
       "    <tr>\n",
       "      <th>0</th>\n",
       "      <td>0</td>\n",
       "      <td>0.345395</td>\n",
       "    </tr>\n",
       "    <tr>\n",
       "      <th>1</th>\n",
       "      <td>1</td>\n",
       "      <td>0.535885</td>\n",
       "    </tr>\n",
       "    <tr>\n",
       "      <th>2</th>\n",
       "      <td>2</td>\n",
       "      <td>0.464286</td>\n",
       "    </tr>\n",
       "    <tr>\n",
       "      <th>3</th>\n",
       "      <td>3</td>\n",
       "      <td>0.250000</td>\n",
       "    </tr>\n",
       "    <tr>\n",
       "      <th>4</th>\n",
       "      <td>4</td>\n",
       "      <td>0.166667</td>\n",
       "    </tr>\n",
       "    <tr>\n",
       "      <th>5</th>\n",
       "      <td>5</td>\n",
       "      <td>0.000000</td>\n",
       "    </tr>\n",
       "    <tr>\n",
       "      <th>6</th>\n",
       "      <td>8</td>\n",
       "      <td>0.000000</td>\n",
       "    </tr>\n",
       "  </tbody>\n",
       "</table>\n",
       "</div>"
      ],
      "text/plain": [
       "   SibSp  Survival Rate\n",
       "0      0       0.345395\n",
       "1      1       0.535885\n",
       "2      2       0.464286\n",
       "3      3       0.250000\n",
       "4      4       0.166667\n",
       "5      5       0.000000\n",
       "6      8       0.000000"
      ]
     },
     "execution_count": 13,
     "metadata": {},
     "output_type": "execute_result"
    }
   ],
   "source": [
    "train.groupby('SibSp').apply(calc_rate).to_frame(\"Survival Rate\").reset_index()"
   ]
  },
  {
   "cell_type": "markdown",
   "id": "d6042675",
   "metadata": {
    "papermill": {
     "duration": 0.012021,
     "end_time": "2023-08-23T14:04:18.965685",
     "exception": false,
     "start_time": "2023-08-23T14:04:18.953664",
     "status": "completed"
    },
    "tags": []
   },
   "source": [
    "As you see, different Patch and SibSp numbers have different Survival rates. So, if we were to combine some categories with each other, we would lose some information. That is why it is better to keep all."
   ]
  },
  {
   "cell_type": "markdown",
   "id": "cd1fefe5",
   "metadata": {
    "papermill": {
     "duration": 0.011806,
     "end_time": "2023-08-23T14:04:18.989823",
     "exception": false,
     "start_time": "2023-08-23T14:04:18.978017",
     "status": "completed"
    },
    "tags": []
   },
   "source": [
    "## 2. One-hot Encoding"
   ]
  },
  {
   "cell_type": "code",
   "execution_count": 14,
   "id": "178b8673",
   "metadata": {
    "execution": {
     "iopub.execute_input": "2023-08-23T14:04:19.016821Z",
     "iopub.status.busy": "2023-08-23T14:04:19.015725Z",
     "iopub.status.idle": "2023-08-23T14:04:19.022080Z",
     "shell.execute_reply": "2023-08-23T14:04:19.021211Z"
    },
    "papermill": {
     "duration": 0.022014,
     "end_time": "2023-08-23T14:04:19.024225",
     "exception": false,
     "start_time": "2023-08-23T14:04:19.002211",
     "status": "completed"
    },
    "tags": []
   },
   "outputs": [],
   "source": [
    "# Seperating target variables and features\n",
    "X = train.drop([\"PassengerId\",\"Survived\",\"Name\",\"Ticket\",\"Fare\",\"Cabin\",\"Embarked\"],axis =1)\n",
    "\n",
    "y = train[\"Survived\"]"
   ]
  },
  {
   "cell_type": "code",
   "execution_count": 15,
   "id": "a062a591",
   "metadata": {
    "execution": {
     "iopub.execute_input": "2023-08-23T14:04:19.050465Z",
     "iopub.status.busy": "2023-08-23T14:04:19.049808Z",
     "iopub.status.idle": "2023-08-23T14:04:19.078143Z",
     "shell.execute_reply": "2023-08-23T14:04:19.077071Z"
    },
    "papermill": {
     "duration": 0.044165,
     "end_time": "2023-08-23T14:04:19.080683",
     "exception": false,
     "start_time": "2023-08-23T14:04:19.036518",
     "status": "completed"
    },
    "tags": []
   },
   "outputs": [
    {
     "data": {
      "text/html": [
       "<div>\n",
       "<style scoped>\n",
       "    .dataframe tbody tr th:only-of-type {\n",
       "        vertical-align: middle;\n",
       "    }\n",
       "\n",
       "    .dataframe tbody tr th {\n",
       "        vertical-align: top;\n",
       "    }\n",
       "\n",
       "    .dataframe thead th {\n",
       "        text-align: right;\n",
       "    }\n",
       "</style>\n",
       "<table border=\"1\" class=\"dataframe\">\n",
       "  <thead>\n",
       "    <tr style=\"text-align: right;\">\n",
       "      <th></th>\n",
       "      <th>Age</th>\n",
       "      <th>Pclass_1</th>\n",
       "      <th>Pclass_2</th>\n",
       "      <th>Pclass_3</th>\n",
       "      <th>Sex_female</th>\n",
       "      <th>Sex_male</th>\n",
       "      <th>SibSp_0</th>\n",
       "      <th>SibSp_1</th>\n",
       "      <th>SibSp_2</th>\n",
       "      <th>SibSp_3</th>\n",
       "      <th>SibSp_4</th>\n",
       "      <th>SibSp_5</th>\n",
       "      <th>SibSp_8</th>\n",
       "      <th>Parch_0</th>\n",
       "      <th>Parch_1</th>\n",
       "      <th>Parch_2</th>\n",
       "      <th>Parch_3</th>\n",
       "      <th>Parch_4</th>\n",
       "      <th>Parch_5</th>\n",
       "      <th>Parch_6</th>\n",
       "    </tr>\n",
       "  </thead>\n",
       "  <tbody>\n",
       "    <tr>\n",
       "      <th>0</th>\n",
       "      <td>22.00000</td>\n",
       "      <td>0</td>\n",
       "      <td>0</td>\n",
       "      <td>1</td>\n",
       "      <td>0</td>\n",
       "      <td>1</td>\n",
       "      <td>0</td>\n",
       "      <td>1</td>\n",
       "      <td>0</td>\n",
       "      <td>0</td>\n",
       "      <td>0</td>\n",
       "      <td>0</td>\n",
       "      <td>0</td>\n",
       "      <td>1</td>\n",
       "      <td>0</td>\n",
       "      <td>0</td>\n",
       "      <td>0</td>\n",
       "      <td>0</td>\n",
       "      <td>0</td>\n",
       "      <td>0</td>\n",
       "    </tr>\n",
       "    <tr>\n",
       "      <th>1</th>\n",
       "      <td>38.00000</td>\n",
       "      <td>1</td>\n",
       "      <td>0</td>\n",
       "      <td>0</td>\n",
       "      <td>1</td>\n",
       "      <td>0</td>\n",
       "      <td>0</td>\n",
       "      <td>1</td>\n",
       "      <td>0</td>\n",
       "      <td>0</td>\n",
       "      <td>0</td>\n",
       "      <td>0</td>\n",
       "      <td>0</td>\n",
       "      <td>1</td>\n",
       "      <td>0</td>\n",
       "      <td>0</td>\n",
       "      <td>0</td>\n",
       "      <td>0</td>\n",
       "      <td>0</td>\n",
       "      <td>0</td>\n",
       "    </tr>\n",
       "    <tr>\n",
       "      <th>2</th>\n",
       "      <td>26.00000</td>\n",
       "      <td>0</td>\n",
       "      <td>0</td>\n",
       "      <td>1</td>\n",
       "      <td>1</td>\n",
       "      <td>0</td>\n",
       "      <td>1</td>\n",
       "      <td>0</td>\n",
       "      <td>0</td>\n",
       "      <td>0</td>\n",
       "      <td>0</td>\n",
       "      <td>0</td>\n",
       "      <td>0</td>\n",
       "      <td>1</td>\n",
       "      <td>0</td>\n",
       "      <td>0</td>\n",
       "      <td>0</td>\n",
       "      <td>0</td>\n",
       "      <td>0</td>\n",
       "      <td>0</td>\n",
       "    </tr>\n",
       "    <tr>\n",
       "      <th>3</th>\n",
       "      <td>35.00000</td>\n",
       "      <td>1</td>\n",
       "      <td>0</td>\n",
       "      <td>0</td>\n",
       "      <td>1</td>\n",
       "      <td>0</td>\n",
       "      <td>0</td>\n",
       "      <td>1</td>\n",
       "      <td>0</td>\n",
       "      <td>0</td>\n",
       "      <td>0</td>\n",
       "      <td>0</td>\n",
       "      <td>0</td>\n",
       "      <td>1</td>\n",
       "      <td>0</td>\n",
       "      <td>0</td>\n",
       "      <td>0</td>\n",
       "      <td>0</td>\n",
       "      <td>0</td>\n",
       "      <td>0</td>\n",
       "    </tr>\n",
       "    <tr>\n",
       "      <th>4</th>\n",
       "      <td>35.00000</td>\n",
       "      <td>0</td>\n",
       "      <td>0</td>\n",
       "      <td>1</td>\n",
       "      <td>0</td>\n",
       "      <td>1</td>\n",
       "      <td>1</td>\n",
       "      <td>0</td>\n",
       "      <td>0</td>\n",
       "      <td>0</td>\n",
       "      <td>0</td>\n",
       "      <td>0</td>\n",
       "      <td>0</td>\n",
       "      <td>1</td>\n",
       "      <td>0</td>\n",
       "      <td>0</td>\n",
       "      <td>0</td>\n",
       "      <td>0</td>\n",
       "      <td>0</td>\n",
       "      <td>0</td>\n",
       "    </tr>\n",
       "    <tr>\n",
       "      <th>...</th>\n",
       "      <td>...</td>\n",
       "      <td>...</td>\n",
       "      <td>...</td>\n",
       "      <td>...</td>\n",
       "      <td>...</td>\n",
       "      <td>...</td>\n",
       "      <td>...</td>\n",
       "      <td>...</td>\n",
       "      <td>...</td>\n",
       "      <td>...</td>\n",
       "      <td>...</td>\n",
       "      <td>...</td>\n",
       "      <td>...</td>\n",
       "      <td>...</td>\n",
       "      <td>...</td>\n",
       "      <td>...</td>\n",
       "      <td>...</td>\n",
       "      <td>...</td>\n",
       "      <td>...</td>\n",
       "      <td>...</td>\n",
       "    </tr>\n",
       "    <tr>\n",
       "      <th>886</th>\n",
       "      <td>27.00000</td>\n",
       "      <td>0</td>\n",
       "      <td>1</td>\n",
       "      <td>0</td>\n",
       "      <td>0</td>\n",
       "      <td>1</td>\n",
       "      <td>1</td>\n",
       "      <td>0</td>\n",
       "      <td>0</td>\n",
       "      <td>0</td>\n",
       "      <td>0</td>\n",
       "      <td>0</td>\n",
       "      <td>0</td>\n",
       "      <td>1</td>\n",
       "      <td>0</td>\n",
       "      <td>0</td>\n",
       "      <td>0</td>\n",
       "      <td>0</td>\n",
       "      <td>0</td>\n",
       "      <td>0</td>\n",
       "    </tr>\n",
       "    <tr>\n",
       "      <th>887</th>\n",
       "      <td>19.00000</td>\n",
       "      <td>1</td>\n",
       "      <td>0</td>\n",
       "      <td>0</td>\n",
       "      <td>1</td>\n",
       "      <td>0</td>\n",
       "      <td>1</td>\n",
       "      <td>0</td>\n",
       "      <td>0</td>\n",
       "      <td>0</td>\n",
       "      <td>0</td>\n",
       "      <td>0</td>\n",
       "      <td>0</td>\n",
       "      <td>1</td>\n",
       "      <td>0</td>\n",
       "      <td>0</td>\n",
       "      <td>0</td>\n",
       "      <td>0</td>\n",
       "      <td>0</td>\n",
       "      <td>0</td>\n",
       "    </tr>\n",
       "    <tr>\n",
       "      <th>888</th>\n",
       "      <td>25.14062</td>\n",
       "      <td>0</td>\n",
       "      <td>0</td>\n",
       "      <td>1</td>\n",
       "      <td>1</td>\n",
       "      <td>0</td>\n",
       "      <td>0</td>\n",
       "      <td>1</td>\n",
       "      <td>0</td>\n",
       "      <td>0</td>\n",
       "      <td>0</td>\n",
       "      <td>0</td>\n",
       "      <td>0</td>\n",
       "      <td>0</td>\n",
       "      <td>0</td>\n",
       "      <td>1</td>\n",
       "      <td>0</td>\n",
       "      <td>0</td>\n",
       "      <td>0</td>\n",
       "      <td>0</td>\n",
       "    </tr>\n",
       "    <tr>\n",
       "      <th>889</th>\n",
       "      <td>26.00000</td>\n",
       "      <td>1</td>\n",
       "      <td>0</td>\n",
       "      <td>0</td>\n",
       "      <td>0</td>\n",
       "      <td>1</td>\n",
       "      <td>1</td>\n",
       "      <td>0</td>\n",
       "      <td>0</td>\n",
       "      <td>0</td>\n",
       "      <td>0</td>\n",
       "      <td>0</td>\n",
       "      <td>0</td>\n",
       "      <td>1</td>\n",
       "      <td>0</td>\n",
       "      <td>0</td>\n",
       "      <td>0</td>\n",
       "      <td>0</td>\n",
       "      <td>0</td>\n",
       "      <td>0</td>\n",
       "    </tr>\n",
       "    <tr>\n",
       "      <th>890</th>\n",
       "      <td>32.00000</td>\n",
       "      <td>0</td>\n",
       "      <td>0</td>\n",
       "      <td>1</td>\n",
       "      <td>0</td>\n",
       "      <td>1</td>\n",
       "      <td>1</td>\n",
       "      <td>0</td>\n",
       "      <td>0</td>\n",
       "      <td>0</td>\n",
       "      <td>0</td>\n",
       "      <td>0</td>\n",
       "      <td>0</td>\n",
       "      <td>1</td>\n",
       "      <td>0</td>\n",
       "      <td>0</td>\n",
       "      <td>0</td>\n",
       "      <td>0</td>\n",
       "      <td>0</td>\n",
       "      <td>0</td>\n",
       "    </tr>\n",
       "  </tbody>\n",
       "</table>\n",
       "<p>891 rows × 20 columns</p>\n",
       "</div>"
      ],
      "text/plain": [
       "          Age  Pclass_1  Pclass_2  Pclass_3  Sex_female  Sex_male  SibSp_0  \\\n",
       "0    22.00000         0         0         1           0         1        0   \n",
       "1    38.00000         1         0         0           1         0        0   \n",
       "2    26.00000         0         0         1           1         0        1   \n",
       "3    35.00000         1         0         0           1         0        0   \n",
       "4    35.00000         0         0         1           0         1        1   \n",
       "..        ...       ...       ...       ...         ...       ...      ...   \n",
       "886  27.00000         0         1         0           0         1        1   \n",
       "887  19.00000         1         0         0           1         0        1   \n",
       "888  25.14062         0         0         1           1         0        0   \n",
       "889  26.00000         1         0         0           0         1        1   \n",
       "890  32.00000         0         0         1           0         1        1   \n",
       "\n",
       "     SibSp_1  SibSp_2  SibSp_3  SibSp_4  SibSp_5  SibSp_8  Parch_0  Parch_1  \\\n",
       "0          1        0        0        0        0        0        1        0   \n",
       "1          1        0        0        0        0        0        1        0   \n",
       "2          0        0        0        0        0        0        1        0   \n",
       "3          1        0        0        0        0        0        1        0   \n",
       "4          0        0        0        0        0        0        1        0   \n",
       "..       ...      ...      ...      ...      ...      ...      ...      ...   \n",
       "886        0        0        0        0        0        0        1        0   \n",
       "887        0        0        0        0        0        0        1        0   \n",
       "888        1        0        0        0        0        0        0        0   \n",
       "889        0        0        0        0        0        0        1        0   \n",
       "890        0        0        0        0        0        0        1        0   \n",
       "\n",
       "     Parch_2  Parch_3  Parch_4  Parch_5  Parch_6  \n",
       "0          0        0        0        0        0  \n",
       "1          0        0        0        0        0  \n",
       "2          0        0        0        0        0  \n",
       "3          0        0        0        0        0  \n",
       "4          0        0        0        0        0  \n",
       "..       ...      ...      ...      ...      ...  \n",
       "886        0        0        0        0        0  \n",
       "887        0        0        0        0        0  \n",
       "888        1        0        0        0        0  \n",
       "889        0        0        0        0        0  \n",
       "890        0        0        0        0        0  \n",
       "\n",
       "[891 rows x 20 columns]"
      ]
     },
     "execution_count": 15,
     "metadata": {},
     "output_type": "execute_result"
    }
   ],
   "source": [
    "# Converting all discrete variables except for Age into binary variables\n",
    "df = pd.get_dummies(X, columns = ['Pclass', 'Sex','SibSp','Parch'])\n",
    "df"
   ]
  },
  {
   "cell_type": "markdown",
   "id": "4ccbd94e",
   "metadata": {
    "papermill": {
     "duration": 0.012497,
     "end_time": "2023-08-23T14:04:19.105981",
     "exception": false,
     "start_time": "2023-08-23T14:04:19.093484",
     "status": "completed"
    },
    "tags": []
   },
   "source": [
    "How do we convert Age into binary variables?\n",
    "\n",
    "Let's find out the distribution of Age."
   ]
  },
  {
   "cell_type": "code",
   "execution_count": 16,
   "id": "f792797d",
   "metadata": {
    "execution": {
     "iopub.execute_input": "2023-08-23T14:04:19.134015Z",
     "iopub.status.busy": "2023-08-23T14:04:19.133321Z",
     "iopub.status.idle": "2023-08-23T14:04:19.421218Z",
     "shell.execute_reply": "2023-08-23T14:04:19.420037Z"
    },
    "papermill": {
     "duration": 0.30491,
     "end_time": "2023-08-23T14:04:19.423762",
     "exception": false,
     "start_time": "2023-08-23T14:04:19.118852",
     "status": "completed"
    },
    "tags": []
   },
   "outputs": [
    {
     "data": {
      "image/png": "[encoded data removed]",
      "text/plain": [
       "<Figure size 640x480 with 1 Axes>"
      ]
     },
     "metadata": {},
     "output_type": "display_data"
    }
   ],
   "source": [
    "# Histogram of Age\n",
    "plt.hist(train[\"Age\"], bins=10)\n",
    "plt.show()"
   ]
  },
  {
   "cell_type": "markdown",
   "id": "43af43c9",
   "metadata": {
    "papermill": {
     "duration": 0.012086,
     "end_time": "2023-08-23T14:04:19.448472",
     "exception": false,
     "start_time": "2023-08-23T14:04:19.436386",
     "status": "completed"
    },
    "tags": []
   },
   "source": [
    "It looks like the distribution is like gaussion distribution. \n",
    "Let's apply Kmeans algorithm to the Age column to find the optimal thresholds to construct binary variables by splitting by thresholds.\n",
    "\n",
    "The silhouette score ranges from -1 to 1, with higher values indicating better clustering quality"
   ]
  },
  {
   "cell_type": "code",
   "execution_count": 17,
   "id": "735bc9be",
   "metadata": {
    "execution": {
     "iopub.execute_input": "2023-08-23T14:04:19.475603Z",
     "iopub.status.busy": "2023-08-23T14:04:19.475169Z",
     "iopub.status.idle": "2023-08-23T14:04:19.709708Z",
     "shell.execute_reply": "2023-08-23T14:04:19.708562Z"
    },
    "papermill": {
     "duration": 0.251242,
     "end_time": "2023-08-23T14:04:19.712021",
     "exception": false,
     "start_time": "2023-08-23T14:04:19.460779",
     "status": "completed"
    },
    "tags": []
   },
   "outputs": [
    {
     "name": "stdout",
     "output_type": "stream",
     "text": [
      "Silhouette score for 2: 0.5939011646748926\n",
      "Silhouette score for 3: 0.5320513635752335\n",
      "Silhouette score for 4: 0.5926613214757969\n",
      "Silhouette score for 5: 0.5888009485324679\n"
     ]
    }
   ],
   "source": [
    "# Trying different options for n_clusters to find the optimal one.\n",
    "Ages = np.array(train[\"Age\"]).reshape(-1,1)\n",
    "cluster_list = [2,3,4,5]\n",
    "for i in cluster_list:\n",
    "    kmeans = KMeans(n_clusters = i,random_state = 0,n_init=10)\n",
    "    kmeans.fit(Ages)\n",
    "    labels = kmeans.predict(Ages)\n",
    "    silhouette = silhouette_score(Ages, labels)\n",
    "    print(\"Silhouette score for {}:\".format(i), silhouette)\n",
    "\n",
    "    "
   ]
  },
  {
   "cell_type": "markdown",
   "id": "b7cdd160",
   "metadata": {
    "papermill": {
     "duration": 0.013108,
     "end_time": "2023-08-23T14:04:19.738930",
     "exception": false,
     "start_time": "2023-08-23T14:04:19.725822",
     "status": "completed"
    },
    "tags": []
   },
   "source": [
    "By looking at the scores, it seems that 4 is a good choice."
   ]
  },
  {
   "cell_type": "code",
   "execution_count": 18,
   "id": "2731f6f8",
   "metadata": {
    "execution": {
     "iopub.execute_input": "2023-08-23T14:04:19.768247Z",
     "iopub.status.busy": "2023-08-23T14:04:19.767364Z",
     "iopub.status.idle": "2023-08-23T14:04:19.812477Z",
     "shell.execute_reply": "2023-08-23T14:04:19.811423Z"
    },
    "papermill": {
     "duration": 0.062812,
     "end_time": "2023-08-23T14:04:19.815188",
     "exception": false,
     "start_time": "2023-08-23T14:04:19.752376",
     "status": "completed"
    },
    "tags": []
   },
   "outputs": [
    {
     "data": {
      "text/html": [
       "<style>#sk-container-id-1 {color: black;background-color: white;}#sk-container-id-1 pre{padding: 0;}#sk-container-id-1 div.sk-toggleable {background-color: white;}#sk-container-id-1 label.sk-toggleable__label {cursor: pointer;display: block;width: 100%;margin-bottom: 0;padding: 0.3em;box-sizing: border-box;text-align: center;}#sk-container-id-1 label.sk-toggleable__label-arrow:before {content: \"▸\";float: left;margin-right: 0.25em;color: #696969;}#sk-container-id-1 label.sk-toggleable__label-arrow:hover:before {color: black;}#sk-container-id-1 div.sk-estimator:hover label.sk-toggleable__label-arrow:before {color: black;}#sk-container-id-1 div.sk-toggleable__content {max-height: 0;max-width: 0;overflow: hidden;text-align: left;background-color: #f0f8ff;}#sk-container-id-1 div.sk-toggleable__content pre {margin: 0.2em;color: black;border-radius: 0.25em;background-color: #f0f8ff;}#sk-container-id-1 input.sk-toggleable__control:checked~div.sk-toggleable__content {max-height: 200px;max-width: 100%;overflow: auto;}#sk-container-id-1 input.sk-toggleable__control:checked~label.sk-toggleable__label-arrow:before {content: \"▾\";}#sk-container-id-1 div.sk-estimator input.sk-toggleable__control:checked~label.sk-toggleable__label {background-color: #d4ebff;}#sk-container-id-1 div.sk-label input.sk-toggleable__control:checked~label.sk-toggleable__label {background-color: #d4ebff;}#sk-container-id-1 input.sk-hidden--visually {border: 0;clip: rect(1px 1px 1px 1px);clip: rect(1px, 1px, 1px, 1px);height: 1px;margin: -1px;overflow: hidden;padding: 0;position: absolute;width: 1px;}#sk-container-id-1 div.sk-estimator {font-family: monospace;background-color: #f0f8ff;border: 1px dotted black;border-radius: 0.25em;box-sizing: border-box;margin-bottom: 0.5em;}#sk-container-id-1 div.sk-estimator:hover {background-color: #d4ebff;}#sk-container-id-1 div.sk-parallel-item::after {content: \"\";width: 100%;border-bottom: 1px solid gray;flex-grow: 1;}#sk-container-id-1 div.sk-label:hover label.sk-toggleable__label {background-color: #d4ebff;}#sk-container-id-1 div.sk-serial::before {content: \"\";position: absolute;border-left: 1px solid gray;box-sizing: border-box;top: 0;bottom: 0;left: 50%;z-index: 0;}#sk-container-id-1 div.sk-serial {display: flex;flex-direction: column;align-items: center;background-color: white;padding-right: 0.2em;padding-left: 0.2em;position: relative;}#sk-container-id-1 div.sk-item {position: relative;z-index: 1;}#sk-container-id-1 div.sk-parallel {display: flex;align-items: stretch;justify-content: center;background-color: white;position: relative;}#sk-container-id-1 div.sk-item::before, #sk-container-id-1 div.sk-parallel-item::before {content: \"\";position: absolute;border-left: 1px solid gray;box-sizing: border-box;top: 0;bottom: 0;left: 50%;z-index: -1;}#sk-container-id-1 div.sk-parallel-item {display: flex;flex-direction: column;z-index: 1;position: relative;background-color: white;}#sk-container-id-1 div.sk-parallel-item:first-child::after {align-self: flex-end;width: 50%;}#sk-container-id-1 div.sk-parallel-item:last-child::after {align-self: flex-start;width: 50%;}#sk-container-id-1 div.sk-parallel-item:only-child::after {width: 0;}#sk-container-id-1 div.sk-dashed-wrapped {border: 1px dashed gray;margin: 0 0.4em 0.5em 0.4em;box-sizing: border-box;padding-bottom: 0.4em;background-color: white;}#sk-container-id-1 div.sk-label label {font-family: monospace;font-weight: bold;display: inline-block;line-height: 1.2em;}#sk-container-id-1 div.sk-label-container {text-align: center;}#sk-container-id-1 div.sk-container {/* jupyter's `normalize.less` sets `[hidden] { display: none; }` but bootstrap.min.css set `[hidden] { display: none !important; }` so we also need the `!important` here to be able to override the default hidden behavior on the sphinx rendered scikit-learn.org. See: https://github.com/scikit-learn/scikit-learn/issues/21755 */display: inline-block !important;position: relative;}#sk-container-id-1 div.sk-text-repr-fallback {display: none;}</style><div id=\"sk-container-id-1\" class=\"sk-top-container\"><div class=\"sk-text-repr-fallback\"><pre>KMeans(n_clusters=4, n_init=10, random_state=0)</pre><b>In a Jupyter environment, please rerun this cell to show the HTML representation or trust the notebook. <br />On GitHub, the HTML representation is unable to render, please try loading this page with nbviewer.org.</b></div><div class=\"sk-container\" hidden><div class=\"sk-item\"><div class=\"sk-estimator sk-toggleable\"><input class=\"sk-toggleable__control sk-hidden--visually\" id=\"sk-estimator-id-1\" type=\"checkbox\" checked><label for=\"sk-estimator-id-1\" class=\"sk-toggleable__label sk-toggleable__label-arrow\">KMeans</label><div class=\"sk-toggleable__content\"><pre>KMeans(n_clusters=4, n_init=10, random_state=0)</pre></div></div></div></div></div>"
      ],
      "text/plain": [
       "KMeans(n_clusters=4, n_init=10, random_state=0)"
      ]
     },
     "execution_count": 18,
     "metadata": {},
     "output_type": "execute_result"
    }
   ],
   "source": [
    "optimal_k = 4  \n",
    "kmeans = KMeans(n_clusters=optimal_k, random_state=0,n_init=10)\n",
    "kmeans.fit(Ages)"
   ]
  },
  {
   "cell_type": "code",
   "execution_count": 19,
   "id": "26f33327",
   "metadata": {
    "execution": {
     "iopub.execute_input": "2023-08-23T14:04:19.845106Z",
     "iopub.status.busy": "2023-08-23T14:04:19.844665Z",
     "iopub.status.idle": "2023-08-23T14:04:19.850773Z",
     "shell.execute_reply": "2023-08-23T14:04:19.850068Z"
    },
    "papermill": {
     "duration": 0.022968,
     "end_time": "2023-08-23T14:04:19.852678",
     "exception": false,
     "start_time": "2023-08-23T14:04:19.829710",
     "status": "completed"
    },
    "tags": []
   },
   "outputs": [],
   "source": [
    "# Obtaining the centroids for the clusters.\n",
    "final_labels = kmeans.labels_\n",
    "centroids = kmeans.cluster_centers_\n",
    "centroids.ravel().sort()\n",
    "centroids = centroids.ravel()"
   ]
  },
  {
   "cell_type": "code",
   "execution_count": 20,
   "id": "55bc6a01",
   "metadata": {
    "execution": {
     "iopub.execute_input": "2023-08-23T14:04:19.882220Z",
     "iopub.status.busy": "2023-08-23T14:04:19.881566Z",
     "iopub.status.idle": "2023-08-23T14:04:19.888280Z",
     "shell.execute_reply": "2023-08-23T14:04:19.887295Z"
    },
    "papermill": {
     "duration": 0.024053,
     "end_time": "2023-08-23T14:04:19.890360",
     "exception": false,
     "start_time": "2023-08-23T14:04:19.866307",
     "status": "completed"
    },
    "tags": []
   },
   "outputs": [
    {
     "data": {
      "text/plain": [
       "array([ 6.36951807, 23.9837436 , 37.3276733 , 55.17346939])"
      ]
     },
     "execution_count": 20,
     "metadata": {},
     "output_type": "execute_result"
    }
   ],
   "source": [
    "centroids"
   ]
  },
  {
   "cell_type": "code",
   "execution_count": 21,
   "id": "ccc65d7e",
   "metadata": {
    "execution": {
     "iopub.execute_input": "2023-08-23T14:04:19.920964Z",
     "iopub.status.busy": "2023-08-23T14:04:19.919835Z",
     "iopub.status.idle": "2023-08-23T14:04:19.926426Z",
     "shell.execute_reply": "2023-08-23T14:04:19.925547Z"
    },
    "papermill": {
     "duration": 0.024571,
     "end_time": "2023-08-23T14:04:19.929202",
     "exception": false,
     "start_time": "2023-08-23T14:04:19.904631",
     "status": "completed"
    },
    "tags": []
   },
   "outputs": [],
   "source": [
    "# Defining the function to be applied on df to convert Age features into binary variables with certain thresholds.\n",
    "def assign_groups(x):\n",
    "    if x < centroids[0]:\n",
    "        return 1\n",
    "    elif x >= centroids[0] and x < centroids[1]:\n",
    "        return 2\n",
    "    elif x >= centroids[1] and x < centroids[2]:\n",
    "        return 3\n",
    "    elif x >= centroids[2] and x < centroids[3]:\n",
    "        return 4\n",
    "    else:\n",
    "        return 5"
   ]
  },
  {
   "cell_type": "code",
   "execution_count": 22,
   "id": "b67fa312",
   "metadata": {
    "execution": {
     "iopub.execute_input": "2023-08-23T14:04:19.960273Z",
     "iopub.status.busy": "2023-08-23T14:04:19.959168Z",
     "iopub.status.idle": "2023-08-23T14:04:19.971328Z",
     "shell.execute_reply": "2023-08-23T14:04:19.970534Z"
    },
    "papermill": {
     "duration": 0.029146,
     "end_time": "2023-08-23T14:04:19.973478",
     "exception": false,
     "start_time": "2023-08-23T14:04:19.944332",
     "status": "completed"
    },
    "tags": []
   },
   "outputs": [],
   "source": [
    "# Converting Age column into binary variables\n",
    "df = df.assign(Age_group=df['Age'].apply(lambda x: assign_groups(x)))\n",
    "\n",
    "df = pd.get_dummies(df, columns = ['Age_group'])\n",
    "\n",
    "df.drop(\"Age\",inplace = True,axis = 1)\n"
   ]
  },
  {
   "cell_type": "code",
   "execution_count": 23,
   "id": "80f6205f",
   "metadata": {
    "execution": {
     "iopub.execute_input": "2023-08-23T14:04:20.002942Z",
     "iopub.status.busy": "2023-08-23T14:04:20.002193Z",
     "iopub.status.idle": "2023-08-23T14:04:20.022694Z",
     "shell.execute_reply": "2023-08-23T14:04:20.021472Z"
    },
    "papermill": {
     "duration": 0.037642,
     "end_time": "2023-08-23T14:04:20.025120",
     "exception": false,
     "start_time": "2023-08-23T14:04:19.987478",
     "status": "completed"
    },
    "tags": []
   },
   "outputs": [
    {
     "data": {
      "text/html": [
       "<div>\n",
       "<style scoped>\n",
       "    .dataframe tbody tr th:only-of-type {\n",
       "        vertical-align: middle;\n",
       "    }\n",
       "\n",
       "    .dataframe tbody tr th {\n",
       "        vertical-align: top;\n",
       "    }\n",
       "\n",
       "    .dataframe thead th {\n",
       "        text-align: right;\n",
       "    }\n",
       "</style>\n",
       "<table border=\"1\" class=\"dataframe\">\n",
       "  <thead>\n",
       "    <tr style=\"text-align: right;\">\n",
       "      <th></th>\n",
       "      <th>Pclass_1</th>\n",
       "      <th>Pclass_2</th>\n",
       "      <th>Pclass_3</th>\n",
       "      <th>Sex_female</th>\n",
       "      <th>Sex_male</th>\n",
       "      <th>SibSp_0</th>\n",
       "      <th>SibSp_1</th>\n",
       "      <th>SibSp_2</th>\n",
       "      <th>SibSp_3</th>\n",
       "      <th>SibSp_4</th>\n",
       "      <th>...</th>\n",
       "      <th>Parch_2</th>\n",
       "      <th>Parch_3</th>\n",
       "      <th>Parch_4</th>\n",
       "      <th>Parch_5</th>\n",
       "      <th>Parch_6</th>\n",
       "      <th>Age_group_1</th>\n",
       "      <th>Age_group_2</th>\n",
       "      <th>Age_group_3</th>\n",
       "      <th>Age_group_4</th>\n",
       "      <th>Age_group_5</th>\n",
       "    </tr>\n",
       "  </thead>\n",
       "  <tbody>\n",
       "    <tr>\n",
       "      <th>0</th>\n",
       "      <td>0</td>\n",
       "      <td>0</td>\n",
       "      <td>1</td>\n",
       "      <td>0</td>\n",
       "      <td>1</td>\n",
       "      <td>0</td>\n",
       "      <td>1</td>\n",
       "      <td>0</td>\n",
       "      <td>0</td>\n",
       "      <td>0</td>\n",
       "      <td>...</td>\n",
       "      <td>0</td>\n",
       "      <td>0</td>\n",
       "      <td>0</td>\n",
       "      <td>0</td>\n",
       "      <td>0</td>\n",
       "      <td>0</td>\n",
       "      <td>1</td>\n",
       "      <td>0</td>\n",
       "      <td>0</td>\n",
       "      <td>0</td>\n",
       "    </tr>\n",
       "    <tr>\n",
       "      <th>1</th>\n",
       "      <td>1</td>\n",
       "      <td>0</td>\n",
       "      <td>0</td>\n",
       "      <td>1</td>\n",
       "      <td>0</td>\n",
       "      <td>0</td>\n",
       "      <td>1</td>\n",
       "      <td>0</td>\n",
       "      <td>0</td>\n",
       "      <td>0</td>\n",
       "      <td>...</td>\n",
       "      <td>0</td>\n",
       "      <td>0</td>\n",
       "      <td>0</td>\n",
       "      <td>0</td>\n",
       "      <td>0</td>\n",
       "      <td>0</td>\n",
       "      <td>0</td>\n",
       "      <td>0</td>\n",
       "      <td>1</td>\n",
       "      <td>0</td>\n",
       "    </tr>\n",
       "    <tr>\n",
       "      <th>2</th>\n",
       "      <td>0</td>\n",
       "      <td>0</td>\n",
       "      <td>1</td>\n",
       "      <td>1</td>\n",
       "      <td>0</td>\n",
       "      <td>1</td>\n",
       "      <td>0</td>\n",
       "      <td>0</td>\n",
       "      <td>0</td>\n",
       "      <td>0</td>\n",
       "      <td>...</td>\n",
       "      <td>0</td>\n",
       "      <td>0</td>\n",
       "      <td>0</td>\n",
       "      <td>0</td>\n",
       "      <td>0</td>\n",
       "      <td>0</td>\n",
       "      <td>0</td>\n",
       "      <td>1</td>\n",
       "      <td>0</td>\n",
       "      <td>0</td>\n",
       "    </tr>\n",
       "    <tr>\n",
       "      <th>3</th>\n",
       "      <td>1</td>\n",
       "      <td>0</td>\n",
       "      <td>0</td>\n",
       "      <td>1</td>\n",
       "      <td>0</td>\n",
       "      <td>0</td>\n",
       "      <td>1</td>\n",
       "      <td>0</td>\n",
       "      <td>0</td>\n",
       "      <td>0</td>\n",
       "      <td>...</td>\n",
       "      <td>0</td>\n",
       "      <td>0</td>\n",
       "      <td>0</td>\n",
       "      <td>0</td>\n",
       "      <td>0</td>\n",
       "      <td>0</td>\n",
       "      <td>0</td>\n",
       "      <td>1</td>\n",
       "      <td>0</td>\n",
       "      <td>0</td>\n",
       "    </tr>\n",
       "    <tr>\n",
       "      <th>4</th>\n",
       "      <td>0</td>\n",
       "      <td>0</td>\n",
       "      <td>1</td>\n",
       "      <td>0</td>\n",
       "      <td>1</td>\n",
       "      <td>1</td>\n",
       "      <td>0</td>\n",
       "      <td>0</td>\n",
       "      <td>0</td>\n",
       "      <td>0</td>\n",
       "      <td>...</td>\n",
       "      <td>0</td>\n",
       "      <td>0</td>\n",
       "      <td>0</td>\n",
       "      <td>0</td>\n",
       "      <td>0</td>\n",
       "      <td>0</td>\n",
       "      <td>0</td>\n",
       "      <td>1</td>\n",
       "      <td>0</td>\n",
       "      <td>0</td>\n",
       "    </tr>\n",
       "  </tbody>\n",
       "</table>\n",
       "<p>5 rows × 24 columns</p>\n",
       "</div>"
      ],
      "text/plain": [
       "   Pclass_1  Pclass_2  Pclass_3  Sex_female  Sex_male  SibSp_0  SibSp_1  \\\n",
       "0         0         0         1           0         1        0        1   \n",
       "1         1         0         0           1         0        0        1   \n",
       "2         0         0         1           1         0        1        0   \n",
       "3         1         0         0           1         0        0        1   \n",
       "4         0         0         1           0         1        1        0   \n",
       "\n",
       "   SibSp_2  SibSp_3  SibSp_4  ...  Parch_2  Parch_3  Parch_4  Parch_5  \\\n",
       "0        0        0        0  ...        0        0        0        0   \n",
       "1        0        0        0  ...        0        0        0        0   \n",
       "2        0        0        0  ...        0        0        0        0   \n",
       "3        0        0        0  ...        0        0        0        0   \n",
       "4        0        0        0  ...        0        0        0        0   \n",
       "\n",
       "   Parch_6  Age_group_1  Age_group_2  Age_group_3  Age_group_4  Age_group_5  \n",
       "0        0            0            1            0            0            0  \n",
       "1        0            0            0            0            1            0  \n",
       "2        0            0            0            1            0            0  \n",
       "3        0            0            0            1            0            0  \n",
       "4        0            0            0            1            0            0  \n",
       "\n",
       "[5 rows x 24 columns]"
      ]
     },
     "execution_count": 23,
     "metadata": {},
     "output_type": "execute_result"
    }
   ],
   "source": [
    "df.head()"
   ]
  },
  {
   "cell_type": "markdown",
   "id": "6a983e21",
   "metadata": {
    "papermill": {
     "duration": 0.013913,
     "end_time": "2023-08-23T14:04:20.053443",
     "exception": false,
     "start_time": "2023-08-23T14:04:20.039530",
     "status": "completed"
    },
    "tags": []
   },
   "source": [
    "So, as seen, all variables were converted into binary variables."
   ]
  },
  {
   "cell_type": "markdown",
   "id": "85201bae",
   "metadata": {
    "papermill": {
     "duration": 0.013855,
     "end_time": "2023-08-23T14:04:20.081546",
     "exception": false,
     "start_time": "2023-08-23T14:04:20.067691",
     "status": "completed"
    },
    "tags": []
   },
   "source": [
    "## 3. Modeling"
   ]
  },
  {
   "cell_type": "code",
   "execution_count": 24,
   "id": "a614e2b6",
   "metadata": {
    "execution": {
     "iopub.execute_input": "2023-08-23T14:04:20.112187Z",
     "iopub.status.busy": "2023-08-23T14:04:20.111105Z",
     "iopub.status.idle": "2023-08-23T14:04:20.388423Z",
     "shell.execute_reply": "2023-08-23T14:04:20.387293Z"
    },
    "papermill": {
     "duration": 0.294704,
     "end_time": "2023-08-23T14:04:20.390548",
     "exception": false,
     "start_time": "2023-08-23T14:04:20.095844",
     "status": "completed"
    },
    "tags": []
   },
   "outputs": [
    {
     "data": {
      "text/plain": [
       "0.8134328358208955"
      ]
     },
     "execution_count": 24,
     "metadata": {},
     "output_type": "execute_result"
    }
   ],
   "source": [
    "# Building a simple RandomForest Model on train set.\n",
    "X_train, X_test, y_train, y_test = train_test_split( \n",
    "df, y, test_size=0.3, random_state=42)\n",
    "\n",
    "rfc = RandomForestClassifier(n_estimators=100, random_state=42)\n",
    "\n",
    "rfc.fit(X_train, y_train)\n",
    "\n",
    "y_pred = rfc.predict(X_test)\n",
    "\n",
    "accuracy = accuracy_score(y_test, y_pred)\n",
    "\n",
    "accuracy"
   ]
  },
  {
   "cell_type": "markdown",
   "id": "10160945",
   "metadata": {
    "papermill": {
     "duration": 0.013709,
     "end_time": "2023-08-23T14:04:20.418852",
     "exception": false,
     "start_time": "2023-08-23T14:04:20.405143",
     "status": "completed"
    },
    "tags": []
   },
   "source": [
    "Finally, we obtained accuracy for test set like this. This work shows how valuable one-hot encoding might be while tackling with the data for classification model."
   ]
  }
 ],
 "metadata": {
  "kernelspec": {
   "display_name": "Python 3",
   "language": "python",
   "name": "python3"
  },
  "language_info": {
   "codemirror_mode": {
    "name": "ipython",
    "version": 3
   },
   "file_extension": ".py",
   "mimetype": "text/x-python",
   "name": "python",
   "nbconvert_exporter": "python",
   "pygments_lexer": "ipython3",
   "version": "3.10.12"
  },
  "papermill": {
   "default_parameters": {},
   "duration": 15.591435,
   "end_time": "2023-08-23T14:04:21.354852",
   "environment_variables": {},
   "exception": null,
   "input_path": "__notebook__.ipynb",
   "output_path": "__notebook__.ipynb",
   "parameters": {},
   "start_time": "2023-08-23T14:04:05.763417",
   "version": "2.4.0"
  }
 },
 "nbformat": 4,
 "nbformat_minor": 5
}
