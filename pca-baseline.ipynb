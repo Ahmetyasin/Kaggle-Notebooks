{
 "cells": [
  {
   "cell_type": "markdown",
   "id": "dde8b5a2",
   "metadata": {
    "papermill": {
     "duration": 0.008606,
     "end_time": "2023-08-21T19:46:15.925596",
     "exception": false,
     "start_time": "2023-08-21T19:46:15.916990",
     "status": "completed"
    },
    "tags": []
   },
   "source": [
    "# PCABaseline"
   ]
  },
  {
   "cell_type": "markdown",
   "id": "9794ad5f",
   "metadata": {
    "papermill": {
     "duration": 0.006643,
     "end_time": "2023-08-21T19:46:15.938412",
     "exception": false,
     "start_time": "2023-08-21T19:46:15.931769",
     "status": "completed"
    },
    "tags": []
   },
   "source": [
    "Hi, this notebook is designed just for the experiment of applying PCA into the dataset. In order to obtain a meaningful result, one must consider more dense feature engineering, data transformation etc."
   ]
  },
  {
   "cell_type": "code",
   "execution_count": 1,
   "id": "743d601a",
   "metadata": {
    "execution": {
     "iopub.execute_input": "2023-08-21T19:46:15.953090Z",
     "iopub.status.busy": "2023-08-21T19:46:15.952281Z",
     "iopub.status.idle": "2023-08-21T19:46:17.664499Z",
     "shell.execute_reply": "2023-08-21T19:46:17.663037Z"
    },
    "papermill": {
     "duration": 1.722473,
     "end_time": "2023-08-21T19:46:17.667016",
     "exception": false,
     "start_time": "2023-08-21T19:46:15.944543",
     "status": "completed"
    },
    "tags": []
   },
   "outputs": [
    {
     "name": "stderr",
     "output_type": "stream",
     "text": [
      "/opt/conda/lib/python3.10/site-packages/scipy/__init__.py:146: UserWarning: A NumPy version >=1.16.5 and <1.23.0 is required for this version of SciPy (detected version 1.23.5\n",
      "  warnings.warn(f\"A NumPy version >={np_minversion} and <{np_maxversion}\"\n"
     ]
    },
    {
     "name": "stdout",
     "output_type": "stream",
     "text": [
      "/kaggle/input/playground-series-s3e20/sample_submission.csv\n",
      "/kaggle/input/playground-series-s3e20/train.csv\n",
      "/kaggle/input/playground-series-s3e20/test.csv\n"
     ]
    }
   ],
   "source": [
    "# Importing libraries\n",
    "\n",
    "import numpy as np \n",
    "import pandas as pd \n",
    "from sklearn.preprocessing import MinMaxScaler\n",
    "from sklearn.preprocessing import StandardScaler\n",
    "from sklearn.decomposition import PCA\n",
    "from sklearn.model_selection import cross_val_score\n",
    "from sklearn.metrics import mean_squared_error\n",
    "import matplotlib.pyplot as plt\n",
    "from sklearn.model_selection import train_test_split\n",
    "from sklearn.ensemble import RandomForestRegressor\n",
    "\n",
    "# Show all the files\n",
    "\n",
    "import os\n",
    "for dirname, _, filenames in os.walk('/kaggle/input'):\n",
    "    for filename in filenames:\n",
    "        print(os.path.join(dirname, filename))\n"
   ]
  },
  {
   "cell_type": "code",
   "execution_count": 2,
   "id": "a4626b04",
   "metadata": {
    "execution": {
     "iopub.execute_input": "2023-08-21T19:46:17.682527Z",
     "iopub.status.busy": "2023-08-21T19:46:17.681742Z",
     "iopub.status.idle": "2023-08-21T19:46:20.579554Z",
     "shell.execute_reply": "2023-08-21T19:46:20.578432Z"
    },
    "papermill": {
     "duration": 2.908894,
     "end_time": "2023-08-21T19:46:20.582078",
     "exception": false,
     "start_time": "2023-08-21T19:46:17.673184",
     "status": "completed"
    },
    "tags": []
   },
   "outputs": [],
   "source": [
    "# Importing the files\n",
    "train = pd.read_csv(\"/kaggle/input/playground-series-s3e20/train.csv\")\n",
    "                    \n",
    "test = pd.read_csv(\"/kaggle/input/playground-series-s3e20/test.csv\")\n",
    "                   \n",
    "sumbission = pd.read_csv(\"/kaggle/input/playground-series-s3e20/sample_submission.csv\")                 "
   ]
  },
  {
   "cell_type": "code",
   "execution_count": 3,
   "id": "6d038c7a",
   "metadata": {
    "execution": {
     "iopub.execute_input": "2023-08-21T19:46:20.597086Z",
     "iopub.status.busy": "2023-08-21T19:46:20.596662Z",
     "iopub.status.idle": "2023-08-21T19:46:20.633714Z",
     "shell.execute_reply": "2023-08-21T19:46:20.632640Z"
    },
    "papermill": {
     "duration": 0.0483,
     "end_time": "2023-08-21T19:46:20.636402",
     "exception": false,
     "start_time": "2023-08-21T19:46:20.588102",
     "status": "completed"
    },
    "tags": []
   },
   "outputs": [
    {
     "data": {
      "text/html": [
       "<div>\n",
       "<style scoped>\n",
       "    .dataframe tbody tr th:only-of-type {\n",
       "        vertical-align: middle;\n",
       "    }\n",
       "\n",
       "    .dataframe tbody tr th {\n",
       "        vertical-align: top;\n",
       "    }\n",
       "\n",
       "    .dataframe thead th {\n",
       "        text-align: right;\n",
       "    }\n",
       "</style>\n",
       "<table border=\"1\" class=\"dataframe\">\n",
       "  <thead>\n",
       "    <tr style=\"text-align: right;\">\n",
       "      <th></th>\n",
       "      <th>ID_LAT_LON_YEAR_WEEK</th>\n",
       "      <th>latitude</th>\n",
       "      <th>longitude</th>\n",
       "      <th>year</th>\n",
       "      <th>week_no</th>\n",
       "      <th>SulphurDioxide_SO2_column_number_density</th>\n",
       "      <th>SulphurDioxide_SO2_column_number_density_amf</th>\n",
       "      <th>SulphurDioxide_SO2_slant_column_number_density</th>\n",
       "      <th>SulphurDioxide_cloud_fraction</th>\n",
       "      <th>SulphurDioxide_sensor_azimuth_angle</th>\n",
       "      <th>...</th>\n",
       "      <th>Cloud_cloud_top_height</th>\n",
       "      <th>Cloud_cloud_base_pressure</th>\n",
       "      <th>Cloud_cloud_base_height</th>\n",
       "      <th>Cloud_cloud_optical_depth</th>\n",
       "      <th>Cloud_surface_albedo</th>\n",
       "      <th>Cloud_sensor_azimuth_angle</th>\n",
       "      <th>Cloud_sensor_zenith_angle</th>\n",
       "      <th>Cloud_solar_azimuth_angle</th>\n",
       "      <th>Cloud_solar_zenith_angle</th>\n",
       "      <th>emission</th>\n",
       "    </tr>\n",
       "  </thead>\n",
       "  <tbody>\n",
       "    <tr>\n",
       "      <th>0</th>\n",
       "      <td>ID_-0.510_29.290_2019_00</td>\n",
       "      <td>-0.51</td>\n",
       "      <td>29.29</td>\n",
       "      <td>2019</td>\n",
       "      <td>0</td>\n",
       "      <td>-0.000108</td>\n",
       "      <td>0.603019</td>\n",
       "      <td>-0.000065</td>\n",
       "      <td>0.255668</td>\n",
       "      <td>-98.593887</td>\n",
       "      <td>...</td>\n",
       "      <td>3664.436218</td>\n",
       "      <td>61085.809570</td>\n",
       "      <td>2615.120483</td>\n",
       "      <td>15.568533</td>\n",
       "      <td>0.272292</td>\n",
       "      <td>-12.628986</td>\n",
       "      <td>35.632416</td>\n",
       "      <td>-138.786423</td>\n",
       "      <td>30.752140</td>\n",
       "      <td>3.750994</td>\n",
       "    </tr>\n",
       "    <tr>\n",
       "      <th>1</th>\n",
       "      <td>ID_-0.510_29.290_2019_01</td>\n",
       "      <td>-0.51</td>\n",
       "      <td>29.29</td>\n",
       "      <td>2019</td>\n",
       "      <td>1</td>\n",
       "      <td>0.000021</td>\n",
       "      <td>0.728214</td>\n",
       "      <td>0.000014</td>\n",
       "      <td>0.130988</td>\n",
       "      <td>16.592861</td>\n",
       "      <td>...</td>\n",
       "      <td>3651.190311</td>\n",
       "      <td>66969.478735</td>\n",
       "      <td>3174.572424</td>\n",
       "      <td>8.690601</td>\n",
       "      <td>0.256830</td>\n",
       "      <td>30.359375</td>\n",
       "      <td>39.557633</td>\n",
       "      <td>-145.183930</td>\n",
       "      <td>27.251779</td>\n",
       "      <td>4.025176</td>\n",
       "    </tr>\n",
       "    <tr>\n",
       "      <th>2</th>\n",
       "      <td>ID_-0.510_29.290_2019_02</td>\n",
       "      <td>-0.51</td>\n",
       "      <td>29.29</td>\n",
       "      <td>2019</td>\n",
       "      <td>2</td>\n",
       "      <td>0.000514</td>\n",
       "      <td>0.748199</td>\n",
       "      <td>0.000385</td>\n",
       "      <td>0.110018</td>\n",
       "      <td>72.795837</td>\n",
       "      <td>...</td>\n",
       "      <td>4216.986492</td>\n",
       "      <td>60068.894448</td>\n",
       "      <td>3516.282669</td>\n",
       "      <td>21.103410</td>\n",
       "      <td>0.251101</td>\n",
       "      <td>15.377883</td>\n",
       "      <td>30.401823</td>\n",
       "      <td>-142.519545</td>\n",
       "      <td>26.193296</td>\n",
       "      <td>4.231381</td>\n",
       "    </tr>\n",
       "    <tr>\n",
       "      <th>3</th>\n",
       "      <td>ID_-0.510_29.290_2019_03</td>\n",
       "      <td>-0.51</td>\n",
       "      <td>29.29</td>\n",
       "      <td>2019</td>\n",
       "      <td>3</td>\n",
       "      <td>NaN</td>\n",
       "      <td>NaN</td>\n",
       "      <td>NaN</td>\n",
       "      <td>NaN</td>\n",
       "      <td>NaN</td>\n",
       "      <td>...</td>\n",
       "      <td>5228.507736</td>\n",
       "      <td>51064.547339</td>\n",
       "      <td>4180.973322</td>\n",
       "      <td>15.386899</td>\n",
       "      <td>0.262043</td>\n",
       "      <td>-11.293399</td>\n",
       "      <td>24.380357</td>\n",
       "      <td>-132.665828</td>\n",
       "      <td>28.829155</td>\n",
       "      <td>4.305286</td>\n",
       "    </tr>\n",
       "    <tr>\n",
       "      <th>4</th>\n",
       "      <td>ID_-0.510_29.290_2019_04</td>\n",
       "      <td>-0.51</td>\n",
       "      <td>29.29</td>\n",
       "      <td>2019</td>\n",
       "      <td>4</td>\n",
       "      <td>-0.000079</td>\n",
       "      <td>0.676296</td>\n",
       "      <td>-0.000048</td>\n",
       "      <td>0.121164</td>\n",
       "      <td>4.121269</td>\n",
       "      <td>...</td>\n",
       "      <td>3980.598120</td>\n",
       "      <td>63751.125781</td>\n",
       "      <td>3355.710107</td>\n",
       "      <td>8.114694</td>\n",
       "      <td>0.235847</td>\n",
       "      <td>38.532263</td>\n",
       "      <td>37.392979</td>\n",
       "      <td>-141.509805</td>\n",
       "      <td>22.204612</td>\n",
       "      <td>4.347317</td>\n",
       "    </tr>\n",
       "  </tbody>\n",
       "</table>\n",
       "<p>5 rows × 76 columns</p>\n",
       "</div>"
      ],
      "text/plain": [
       "       ID_LAT_LON_YEAR_WEEK  latitude  longitude  year  week_no  \\\n",
       "0  ID_-0.510_29.290_2019_00     -0.51      29.29  2019        0   \n",
       "1  ID_-0.510_29.290_2019_01     -0.51      29.29  2019        1   \n",
       "2  ID_-0.510_29.290_2019_02     -0.51      29.29  2019        2   \n",
       "3  ID_-0.510_29.290_2019_03     -0.51      29.29  2019        3   \n",
       "4  ID_-0.510_29.290_2019_04     -0.51      29.29  2019        4   \n",
       "\n",
       "   SulphurDioxide_SO2_column_number_density  \\\n",
       "0                                 -0.000108   \n",
       "1                                  0.000021   \n",
       "2                                  0.000514   \n",
       "3                                       NaN   \n",
       "4                                 -0.000079   \n",
       "\n",
       "   SulphurDioxide_SO2_column_number_density_amf  \\\n",
       "0                                      0.603019   \n",
       "1                                      0.728214   \n",
       "2                                      0.748199   \n",
       "3                                           NaN   \n",
       "4                                      0.676296   \n",
       "\n",
       "   SulphurDioxide_SO2_slant_column_number_density  \\\n",
       "0                                       -0.000065   \n",
       "1                                        0.000014   \n",
       "2                                        0.000385   \n",
       "3                                             NaN   \n",
       "4                                       -0.000048   \n",
       "\n",
       "   SulphurDioxide_cloud_fraction  SulphurDioxide_sensor_azimuth_angle  ...  \\\n",
       "0                       0.255668                           -98.593887  ...   \n",
       "1                       0.130988                            16.592861  ...   \n",
       "2                       0.110018                            72.795837  ...   \n",
       "3                            NaN                                  NaN  ...   \n",
       "4                       0.121164                             4.121269  ...   \n",
       "\n",
       "   Cloud_cloud_top_height  Cloud_cloud_base_pressure  Cloud_cloud_base_height  \\\n",
       "0             3664.436218               61085.809570              2615.120483   \n",
       "1             3651.190311               66969.478735              3174.572424   \n",
       "2             4216.986492               60068.894448              3516.282669   \n",
       "3             5228.507736               51064.547339              4180.973322   \n",
       "4             3980.598120               63751.125781              3355.710107   \n",
       "\n",
       "   Cloud_cloud_optical_depth  Cloud_surface_albedo  \\\n",
       "0                  15.568533              0.272292   \n",
       "1                   8.690601              0.256830   \n",
       "2                  21.103410              0.251101   \n",
       "3                  15.386899              0.262043   \n",
       "4                   8.114694              0.235847   \n",
       "\n",
       "   Cloud_sensor_azimuth_angle  Cloud_sensor_zenith_angle  \\\n",
       "0                  -12.628986                  35.632416   \n",
       "1                   30.359375                  39.557633   \n",
       "2                   15.377883                  30.401823   \n",
       "3                  -11.293399                  24.380357   \n",
       "4                   38.532263                  37.392979   \n",
       "\n",
       "   Cloud_solar_azimuth_angle  Cloud_solar_zenith_angle  emission  \n",
       "0                -138.786423                 30.752140  3.750994  \n",
       "1                -145.183930                 27.251779  4.025176  \n",
       "2                -142.519545                 26.193296  4.231381  \n",
       "3                -132.665828                 28.829155  4.305286  \n",
       "4                -141.509805                 22.204612  4.347317  \n",
       "\n",
       "[5 rows x 76 columns]"
      ]
     },
     "execution_count": 3,
     "metadata": {},
     "output_type": "execute_result"
    }
   ],
   "source": [
    "train.head()"
   ]
  },
  {
   "cell_type": "markdown",
   "id": "2cf9081d",
   "metadata": {
    "papermill": {
     "duration": 0.005952,
     "end_time": "2023-08-21T19:46:20.648747",
     "exception": false,
     "start_time": "2023-08-21T19:46:20.642795",
     "status": "completed"
    },
    "tags": []
   },
   "source": [
    "## Model for the original dataset"
   ]
  },
  {
   "cell_type": "code",
   "execution_count": 4,
   "id": "b748cb91",
   "metadata": {
    "execution": {
     "iopub.execute_input": "2023-08-21T19:46:20.663050Z",
     "iopub.status.busy": "2023-08-21T19:46:20.662654Z",
     "iopub.status.idle": "2023-08-21T19:46:20.686888Z",
     "shell.execute_reply": "2023-08-21T19:46:20.685673Z"
    },
    "papermill": {
     "duration": 0.034232,
     "end_time": "2023-08-21T19:46:20.689287",
     "exception": false,
     "start_time": "2023-08-21T19:46:20.655055",
     "status": "completed"
    },
    "tags": []
   },
   "outputs": [],
   "source": [
    "train_org_dataset = train.drop([\"ID_LAT_LON_YEAR_WEEK\",\"latitude\",\"longitude\",\"year\",\"week_no\"],axis=1)\n"
   ]
  },
  {
   "cell_type": "code",
   "execution_count": 5,
   "id": "7e6d57d0",
   "metadata": {
    "execution": {
     "iopub.execute_input": "2023-08-21T19:46:20.704012Z",
     "iopub.status.busy": "2023-08-21T19:46:20.703601Z",
     "iopub.status.idle": "2023-08-21T19:46:20.800494Z",
     "shell.execute_reply": "2023-08-21T19:46:20.799403Z"
    },
    "papermill": {
     "duration": 0.107057,
     "end_time": "2023-08-21T19:46:20.803004",
     "exception": false,
     "start_time": "2023-08-21T19:46:20.695947",
     "status": "completed"
    },
    "tags": []
   },
   "outputs": [],
   "source": [
    "# Defining X and y for the model part, and train and test split\n",
    "X = train_org_dataset.drop(\"emission\",axis = 1).fillna(0)\n",
    "\n",
    "y = train_org_dataset.emission\n",
    "\n",
    "X_train, X_test, y_train, y_test = train_test_split(X, y, test_size = 0.3, random_state = 49)"
   ]
  },
  {
   "cell_type": "code",
   "execution_count": 6,
   "id": "81f79b15",
   "metadata": {
    "execution": {
     "iopub.execute_input": "2023-08-21T19:46:20.817321Z",
     "iopub.status.busy": "2023-08-21T19:46:20.816945Z",
     "iopub.status.idle": "2023-08-21T19:50:18.206930Z",
     "shell.execute_reply": "2023-08-21T19:50:18.205769Z"
    },
    "papermill": {
     "duration": 237.406398,
     "end_time": "2023-08-21T19:50:18.215748",
     "exception": false,
     "start_time": "2023-08-21T19:46:20.809350",
     "status": "completed"
    },
    "tags": []
   },
   "outputs": [
    {
     "data": {
      "text/html": [
       "<style>#sk-container-id-1 {color: black;background-color: white;}#sk-container-id-1 pre{padding: 0;}#sk-container-id-1 div.sk-toggleable {background-color: white;}#sk-container-id-1 label.sk-toggleable__label {cursor: pointer;display: block;width: 100%;margin-bottom: 0;padding: 0.3em;box-sizing: border-box;text-align: center;}#sk-container-id-1 label.sk-toggleable__label-arrow:before {content: \"▸\";float: left;margin-right: 0.25em;color: #696969;}#sk-container-id-1 label.sk-toggleable__label-arrow:hover:before {color: black;}#sk-container-id-1 div.sk-estimator:hover label.sk-toggleable__label-arrow:before {color: black;}#sk-container-id-1 div.sk-toggleable__content {max-height: 0;max-width: 0;overflow: hidden;text-align: left;background-color: #f0f8ff;}#sk-container-id-1 div.sk-toggleable__content pre {margin: 0.2em;color: black;border-radius: 0.25em;background-color: #f0f8ff;}#sk-container-id-1 input.sk-toggleable__control:checked~div.sk-toggleable__content {max-height: 200px;max-width: 100%;overflow: auto;}#sk-container-id-1 input.sk-toggleable__control:checked~label.sk-toggleable__label-arrow:before {content: \"▾\";}#sk-container-id-1 div.sk-estimator input.sk-toggleable__control:checked~label.sk-toggleable__label {background-color: #d4ebff;}#sk-container-id-1 div.sk-label input.sk-toggleable__control:checked~label.sk-toggleable__label {background-color: #d4ebff;}#sk-container-id-1 input.sk-hidden--visually {border: 0;clip: rect(1px 1px 1px 1px);clip: rect(1px, 1px, 1px, 1px);height: 1px;margin: -1px;overflow: hidden;padding: 0;position: absolute;width: 1px;}#sk-container-id-1 div.sk-estimator {font-family: monospace;background-color: #f0f8ff;border: 1px dotted black;border-radius: 0.25em;box-sizing: border-box;margin-bottom: 0.5em;}#sk-container-id-1 div.sk-estimator:hover {background-color: #d4ebff;}#sk-container-id-1 div.sk-parallel-item::after {content: \"\";width: 100%;border-bottom: 1px solid gray;flex-grow: 1;}#sk-container-id-1 div.sk-label:hover label.sk-toggleable__label {background-color: #d4ebff;}#sk-container-id-1 div.sk-serial::before {content: \"\";position: absolute;border-left: 1px solid gray;box-sizing: border-box;top: 0;bottom: 0;left: 50%;z-index: 0;}#sk-container-id-1 div.sk-serial {display: flex;flex-direction: column;align-items: center;background-color: white;padding-right: 0.2em;padding-left: 0.2em;position: relative;}#sk-container-id-1 div.sk-item {position: relative;z-index: 1;}#sk-container-id-1 div.sk-parallel {display: flex;align-items: stretch;justify-content: center;background-color: white;position: relative;}#sk-container-id-1 div.sk-item::before, #sk-container-id-1 div.sk-parallel-item::before {content: \"\";position: absolute;border-left: 1px solid gray;box-sizing: border-box;top: 0;bottom: 0;left: 50%;z-index: -1;}#sk-container-id-1 div.sk-parallel-item {display: flex;flex-direction: column;z-index: 1;position: relative;background-color: white;}#sk-container-id-1 div.sk-parallel-item:first-child::after {align-self: flex-end;width: 50%;}#sk-container-id-1 div.sk-parallel-item:last-child::after {align-self: flex-start;width: 50%;}#sk-container-id-1 div.sk-parallel-item:only-child::after {width: 0;}#sk-container-id-1 div.sk-dashed-wrapped {border: 1px dashed gray;margin: 0 0.4em 0.5em 0.4em;box-sizing: border-box;padding-bottom: 0.4em;background-color: white;}#sk-container-id-1 div.sk-label label {font-family: monospace;font-weight: bold;display: inline-block;line-height: 1.2em;}#sk-container-id-1 div.sk-label-container {text-align: center;}#sk-container-id-1 div.sk-container {/* jupyter's `normalize.less` sets `[hidden] { display: none; }` but bootstrap.min.css set `[hidden] { display: none !important; }` so we also need the `!important` here to be able to override the default hidden behavior on the sphinx rendered scikit-learn.org. See: https://github.com/scikit-learn/scikit-learn/issues/21755 */display: inline-block !important;position: relative;}#sk-container-id-1 div.sk-text-repr-fallback {display: none;}</style><div id=\"sk-container-id-1\" class=\"sk-top-container\"><div class=\"sk-text-repr-fallback\"><pre>RandomForestRegressor(n_jobs=-1, random_state=49)</pre><b>In a Jupyter environment, please rerun this cell to show the HTML representation or trust the notebook. <br />On GitHub, the HTML representation is unable to render, please try loading this page with nbviewer.org.</b></div><div class=\"sk-container\" hidden><div class=\"sk-item\"><div class=\"sk-estimator sk-toggleable\"><input class=\"sk-toggleable__control sk-hidden--visually\" id=\"sk-estimator-id-1\" type=\"checkbox\" checked><label for=\"sk-estimator-id-1\" class=\"sk-toggleable__label sk-toggleable__label-arrow\">RandomForestRegressor</label><div class=\"sk-toggleable__content\"><pre>RandomForestRegressor(n_jobs=-1, random_state=49)</pre></div></div></div></div></div>"
      ],
      "text/plain": [
       "RandomForestRegressor(n_jobs=-1, random_state=49)"
      ]
     },
     "execution_count": 6,
     "metadata": {},
     "output_type": "execute_result"
    }
   ],
   "source": [
    "# Building Random Forest Regression Model\n",
    "clf = RandomForestRegressor(random_state = 49, n_jobs=-1)\n",
    "\n",
    "# Fit the data\n",
    "clf.fit(X_train, y_train)"
   ]
  },
  {
   "cell_type": "code",
   "execution_count": 7,
   "id": "6d18e140",
   "metadata": {
    "execution": {
     "iopub.execute_input": "2023-08-21T19:50:18.231069Z",
     "iopub.status.busy": "2023-08-21T19:50:18.230287Z",
     "iopub.status.idle": "2023-08-21T19:50:18.697953Z",
     "shell.execute_reply": "2023-08-21T19:50:18.696235Z"
    },
    "papermill": {
     "duration": 0.478325,
     "end_time": "2023-08-21T19:50:18.700587",
     "exception": false,
     "start_time": "2023-08-21T19:50:18.222262",
     "status": "completed"
    },
    "tags": []
   },
   "outputs": [
    {
     "name": "stdout",
     "output_type": "stream",
     "text": [
      "RMSE Score: 145.50576840625794\n"
     ]
    }
   ],
   "source": [
    "# Making predictions\n",
    "y_pred_org = clf.predict(X_test)\n",
    "\n",
    "# Measuring the accuracy of the model\n",
    "print(f'RMSE Score: {mean_squared_error(y_test, y_pred_org, squared=False)}') "
   ]
  },
  {
   "cell_type": "markdown",
   "id": "9770cfe0",
   "metadata": {
    "papermill": {
     "duration": 0.00638,
     "end_time": "2023-08-21T19:50:18.713763",
     "exception": false,
     "start_time": "2023-08-21T19:50:18.707383",
     "status": "completed"
    },
    "tags": []
   },
   "source": [
    "## Scaling and PCA"
   ]
  },
  {
   "cell_type": "code",
   "execution_count": 8,
   "id": "a5fbb436",
   "metadata": {
    "execution": {
     "iopub.execute_input": "2023-08-21T19:50:18.729430Z",
     "iopub.status.busy": "2023-08-21T19:50:18.728996Z",
     "iopub.status.idle": "2023-08-21T19:50:18.841572Z",
     "shell.execute_reply": "2023-08-21T19:50:18.840284Z"
    },
    "papermill": {
     "duration": 0.123422,
     "end_time": "2023-08-21T19:50:18.844179",
     "exception": false,
     "start_time": "2023-08-21T19:50:18.720757",
     "status": "completed"
    },
    "tags": []
   },
   "outputs": [],
   "source": [
    "# Converting index into ID_LAT_LON_YEAR_WEEK in order to keep the location and week information \n",
    "train.index = train[\"ID_LAT_LON_YEAR_WEEK\"]\n",
    "\n",
    "# Define dftrainemission to keep the emission values in train\n",
    "emission = train[[\"emission\"]]\n",
    "\n",
    "# Deleting irrevelant columns\n",
    "dftrain = train.drop([\"ID_LAT_LON_YEAR_WEEK\",\"latitude\",\"longitude\",\"year\",\"week_no\",\"emission\"],axis=1)\n",
    "\n",
    "# Filling empty cells with 0\n",
    "dftrain.fillna(0,inplace=True)"
   ]
  },
  {
   "cell_type": "code",
   "execution_count": 9,
   "id": "acb40c92",
   "metadata": {
    "execution": {
     "iopub.execute_input": "2023-08-21T19:50:18.859438Z",
     "iopub.status.busy": "2023-08-21T19:50:18.859070Z",
     "iopub.status.idle": "2023-08-21T19:50:18.908827Z",
     "shell.execute_reply": "2023-08-21T19:50:18.907790Z"
    },
    "papermill": {
     "duration": 0.060438,
     "end_time": "2023-08-21T19:50:18.911390",
     "exception": false,
     "start_time": "2023-08-21T19:50:18.850952",
     "status": "completed"
    },
    "tags": []
   },
   "outputs": [],
   "source": [
    "# Defining the scaler method in order to prepare the data to be fed into PCA\n",
    "scaler = MinMaxScaler()\n",
    "\n",
    "# Fit and transform the data\n",
    "scaled_data = scaler.fit_transform(dftrain)"
   ]
  },
  {
   "cell_type": "code",
   "execution_count": 10,
   "id": "330eafb5",
   "metadata": {
    "execution": {
     "iopub.execute_input": "2023-08-21T19:50:18.926791Z",
     "iopub.status.busy": "2023-08-21T19:50:18.926391Z",
     "iopub.status.idle": "2023-08-21T19:50:18.933417Z",
     "shell.execute_reply": "2023-08-21T19:50:18.932192Z"
    },
    "papermill": {
     "duration": 0.017476,
     "end_time": "2023-08-21T19:50:18.935583",
     "exception": false,
     "start_time": "2023-08-21T19:50:18.918107",
     "status": "completed"
    },
    "tags": []
   },
   "outputs": [
    {
     "data": {
      "text/plain": [
       "(79023, 70)"
      ]
     },
     "execution_count": 10,
     "metadata": {},
     "output_type": "execute_result"
    }
   ],
   "source": [
    "scaled_data.shape"
   ]
  },
  {
   "cell_type": "code",
   "execution_count": 11,
   "id": "e423bbdd",
   "metadata": {
    "execution": {
     "iopub.execute_input": "2023-08-21T19:50:18.951047Z",
     "iopub.status.busy": "2023-08-21T19:50:18.950652Z",
     "iopub.status.idle": "2023-08-21T19:50:19.359136Z",
     "shell.execute_reply": "2023-08-21T19:50:19.357886Z"
    },
    "papermill": {
     "duration": 0.420128,
     "end_time": "2023-08-21T19:50:19.362595",
     "exception": false,
     "start_time": "2023-08-21T19:50:18.942467",
     "status": "completed"
    },
    "tags": []
   },
   "outputs": [],
   "source": [
    "# Defining PCA without specifying n_components \n",
    "pca = PCA(n_components=None)\n",
    "\n",
    "# Fit and transform the data\n",
    "pca_train = pca.fit_transform(scaled_data)"
   ]
  },
  {
   "cell_type": "code",
   "execution_count": 12,
   "id": "351b9527",
   "metadata": {
    "execution": {
     "iopub.execute_input": "2023-08-21T19:50:19.387946Z",
     "iopub.status.busy": "2023-08-21T19:50:19.387392Z",
     "iopub.status.idle": "2023-08-21T19:50:21.494084Z",
     "shell.execute_reply": "2023-08-21T19:50:21.492593Z"
    },
    "papermill": {
     "duration": 2.124224,
     "end_time": "2023-08-21T19:50:21.498410",
     "exception": false,
     "start_time": "2023-08-21T19:50:19.374186",
     "status": "completed"
    },
    "tags": []
   },
   "outputs": [],
   "source": [
    "# Defining cross validation score to find the optimal paramter\n",
    "scores = cross_val_score(pca, scaled_data, emission, cv=5)"
   ]
  },
  {
   "cell_type": "code",
   "execution_count": 13,
   "id": "684ab678",
   "metadata": {
    "execution": {
     "iopub.execute_input": "2023-08-21T19:50:21.538572Z",
     "iopub.status.busy": "2023-08-21T19:50:21.538041Z",
     "iopub.status.idle": "2023-08-21T19:50:21.877677Z",
     "shell.execute_reply": "2023-08-21T19:50:21.876485Z"
    },
    "papermill": {
     "duration": 0.370246,
     "end_time": "2023-08-21T19:50:21.880249",
     "exception": false,
     "start_time": "2023-08-21T19:50:21.510003",
     "status": "completed"
    },
    "tags": []
   },
   "outputs": [
    {
     "data": {
      "image/png": "[encoded data removed]",
      "text/plain": [
       "<Figure size 640x480 with 1 Axes>"
      ]
     },
     "metadata": {},
     "output_type": "display_data"
    }
   ],
   "source": [
    "# Plotting the CV scores vs. Number of components to detect the optimal value for n_component\n",
    "plt.plot(range(0, len(scores)), scores)\n",
    "plt.xlabel('Number of components')\n",
    "plt.ylabel('Cross-validation score')\n",
    "plt.title('Cross-validation scores vs. Number of components')\n",
    "plt.show()"
   ]
  },
  {
   "cell_type": "code",
   "execution_count": 14,
   "id": "dbc4fb0d",
   "metadata": {
    "execution": {
     "iopub.execute_input": "2023-08-21T19:50:21.897037Z",
     "iopub.status.busy": "2023-08-21T19:50:21.896638Z",
     "iopub.status.idle": "2023-08-21T19:50:22.713180Z",
     "shell.execute_reply": "2023-08-21T19:50:22.711720Z"
    },
    "papermill": {
     "duration": 0.829227,
     "end_time": "2023-08-21T19:50:22.716971",
     "exception": false,
     "start_time": "2023-08-21T19:50:21.887744",
     "status": "completed"
    },
    "tags": []
   },
   "outputs": [],
   "source": [
    "# As seen in the graph, the optimal component is 2(3 might be also a choice but it looks like 2 is enough)\n",
    "pca_optimal = PCA(n_components=2)\n",
    "\n",
    "#Fit and transform the data\n",
    "pca_train_optimal  = pca_optimal.fit_transform(scaled_data)"
   ]
  },
  {
   "cell_type": "code",
   "execution_count": 15,
   "id": "5be6e069",
   "metadata": {
    "execution": {
     "iopub.execute_input": "2023-08-21T19:50:22.753396Z",
     "iopub.status.busy": "2023-08-21T19:50:22.752639Z",
     "iopub.status.idle": "2023-08-21T19:50:22.761960Z",
     "shell.execute_reply": "2023-08-21T19:50:22.760412Z"
    },
    "papermill": {
     "duration": 0.036678,
     "end_time": "2023-08-21T19:50:22.768480",
     "exception": false,
     "start_time": "2023-08-21T19:50:22.731802",
     "status": "completed"
    },
    "tags": []
   },
   "outputs": [
    {
     "data": {
      "text/plain": [
       "(79023, 2)"
      ]
     },
     "execution_count": 15,
     "metadata": {},
     "output_type": "execute_result"
    }
   ],
   "source": [
    "pca_train_optimal.shape"
   ]
  },
  {
   "cell_type": "markdown",
   "id": "d2e17c51",
   "metadata": {
    "papermill": {
     "duration": 0.007291,
     "end_time": "2023-08-21T19:50:22.784574",
     "exception": false,
     "start_time": "2023-08-21T19:50:22.777283",
     "status": "completed"
    },
    "tags": []
   },
   "source": [
    "#### Now, we transformed our features into two features with the help of PCA"
   ]
  },
  {
   "cell_type": "markdown",
   "id": "a763516f",
   "metadata": {
    "papermill": {
     "duration": 0.007041,
     "end_time": "2023-08-21T19:50:22.798995",
     "exception": false,
     "start_time": "2023-08-21T19:50:22.791954",
     "status": "completed"
    },
    "tags": []
   },
   "source": [
    "## Model for normalized dataset with reduced dimensions"
   ]
  },
  {
   "cell_type": "code",
   "execution_count": 16,
   "id": "ee5e31d2",
   "metadata": {
    "execution": {
     "iopub.execute_input": "2023-08-21T19:50:22.816327Z",
     "iopub.status.busy": "2023-08-21T19:50:22.815552Z",
     "iopub.status.idle": "2023-08-21T19:50:22.822437Z",
     "shell.execute_reply": "2023-08-21T19:50:22.821281Z"
    },
    "papermill": {
     "duration": 0.018663,
     "end_time": "2023-08-21T19:50:22.825406",
     "exception": false,
     "start_time": "2023-08-21T19:50:22.806743",
     "status": "completed"
    },
    "tags": []
   },
   "outputs": [],
   "source": [
    "# Defining df_train as our new train set\n",
    "train_PCA = pd.DataFrame({\"feature1\":pca_train_optimal[:,0],\"feature2\":pca_train_optimal[:,1],\"emission\":emission[\"emission\"]})"
   ]
  },
  {
   "cell_type": "code",
   "execution_count": 17,
   "id": "0e8e5d68",
   "metadata": {
    "execution": {
     "iopub.execute_input": "2023-08-21T19:50:22.843419Z",
     "iopub.status.busy": "2023-08-21T19:50:22.842214Z",
     "iopub.status.idle": "2023-08-21T19:50:22.882621Z",
     "shell.execute_reply": "2023-08-21T19:50:22.881235Z"
    },
    "papermill": {
     "duration": 0.052136,
     "end_time": "2023-08-21T19:50:22.885294",
     "exception": false,
     "start_time": "2023-08-21T19:50:22.833158",
     "status": "completed"
    },
    "tags": []
   },
   "outputs": [],
   "source": [
    "# Defining X and y for the model part, and train and test split\n",
    "X = train_PCA.drop(\"emission\",axis = 1).fillna(0)\n",
    "\n",
    "y = train_PCA.emission\n",
    "\n",
    "X_train, X_test, y_train, y_test = train_test_split(X, y, test_size = 0.3, random_state = 49)"
   ]
  },
  {
   "cell_type": "code",
   "execution_count": 18,
   "id": "1ca3a051",
   "metadata": {
    "execution": {
     "iopub.execute_input": "2023-08-21T19:50:22.902384Z",
     "iopub.status.busy": "2023-08-21T19:50:22.902021Z",
     "iopub.status.idle": "2023-08-21T19:50:32.688662Z",
     "shell.execute_reply": "2023-08-21T19:50:32.686965Z"
    },
    "papermill": {
     "duration": 9.79859,
     "end_time": "2023-08-21T19:50:32.691497",
     "exception": false,
     "start_time": "2023-08-21T19:50:22.892907",
     "status": "completed"
    },
    "tags": []
   },
   "outputs": [
    {
     "data": {
      "text/html": [
       "<style>#sk-container-id-2 {color: black;background-color: white;}#sk-container-id-2 pre{padding: 0;}#sk-container-id-2 div.sk-toggleable {background-color: white;}#sk-container-id-2 label.sk-toggleable__label {cursor: pointer;display: block;width: 100%;margin-bottom: 0;padding: 0.3em;box-sizing: border-box;text-align: center;}#sk-container-id-2 label.sk-toggleable__label-arrow:before {content: \"▸\";float: left;margin-right: 0.25em;color: #696969;}#sk-container-id-2 label.sk-toggleable__label-arrow:hover:before {color: black;}#sk-container-id-2 div.sk-estimator:hover label.sk-toggleable__label-arrow:before {color: black;}#sk-container-id-2 div.sk-toggleable__content {max-height: 0;max-width: 0;overflow: hidden;text-align: left;background-color: #f0f8ff;}#sk-container-id-2 div.sk-toggleable__content pre {margin: 0.2em;color: black;border-radius: 0.25em;background-color: #f0f8ff;}#sk-container-id-2 input.sk-toggleable__control:checked~div.sk-toggleable__content {max-height: 200px;max-width: 100%;overflow: auto;}#sk-container-id-2 input.sk-toggleable__control:checked~label.sk-toggleable__label-arrow:before {content: \"▾\";}#sk-container-id-2 div.sk-estimator input.sk-toggleable__control:checked~label.sk-toggleable__label {background-color: #d4ebff;}#sk-container-id-2 div.sk-label input.sk-toggleable__control:checked~label.sk-toggleable__label {background-color: #d4ebff;}#sk-container-id-2 input.sk-hidden--visually {border: 0;clip: rect(1px 1px 1px 1px);clip: rect(1px, 1px, 1px, 1px);height: 1px;margin: -1px;overflow: hidden;padding: 0;position: absolute;width: 1px;}#sk-container-id-2 div.sk-estimator {font-family: monospace;background-color: #f0f8ff;border: 1px dotted black;border-radius: 0.25em;box-sizing: border-box;margin-bottom: 0.5em;}#sk-container-id-2 div.sk-estimator:hover {background-color: #d4ebff;}#sk-container-id-2 div.sk-parallel-item::after {content: \"\";width: 100%;border-bottom: 1px solid gray;flex-grow: 1;}#sk-container-id-2 div.sk-label:hover label.sk-toggleable__label {background-color: #d4ebff;}#sk-container-id-2 div.sk-serial::before {content: \"\";position: absolute;border-left: 1px solid gray;box-sizing: border-box;top: 0;bottom: 0;left: 50%;z-index: 0;}#sk-container-id-2 div.sk-serial {display: flex;flex-direction: column;align-items: center;background-color: white;padding-right: 0.2em;padding-left: 0.2em;position: relative;}#sk-container-id-2 div.sk-item {position: relative;z-index: 1;}#sk-container-id-2 div.sk-parallel {display: flex;align-items: stretch;justify-content: center;background-color: white;position: relative;}#sk-container-id-2 div.sk-item::before, #sk-container-id-2 div.sk-parallel-item::before {content: \"\";position: absolute;border-left: 1px solid gray;box-sizing: border-box;top: 0;bottom: 0;left: 50%;z-index: -1;}#sk-container-id-2 div.sk-parallel-item {display: flex;flex-direction: column;z-index: 1;position: relative;background-color: white;}#sk-container-id-2 div.sk-parallel-item:first-child::after {align-self: flex-end;width: 50%;}#sk-container-id-2 div.sk-parallel-item:last-child::after {align-self: flex-start;width: 50%;}#sk-container-id-2 div.sk-parallel-item:only-child::after {width: 0;}#sk-container-id-2 div.sk-dashed-wrapped {border: 1px dashed gray;margin: 0 0.4em 0.5em 0.4em;box-sizing: border-box;padding-bottom: 0.4em;background-color: white;}#sk-container-id-2 div.sk-label label {font-family: monospace;font-weight: bold;display: inline-block;line-height: 1.2em;}#sk-container-id-2 div.sk-label-container {text-align: center;}#sk-container-id-2 div.sk-container {/* jupyter's `normalize.less` sets `[hidden] { display: none; }` but bootstrap.min.css set `[hidden] { display: none !important; }` so we also need the `!important` here to be able to override the default hidden behavior on the sphinx rendered scikit-learn.org. See: https://github.com/scikit-learn/scikit-learn/issues/21755 */display: inline-block !important;position: relative;}#sk-container-id-2 div.sk-text-repr-fallback {display: none;}</style><div id=\"sk-container-id-2\" class=\"sk-top-container\"><div class=\"sk-text-repr-fallback\"><pre>RandomForestRegressor(n_jobs=-1, random_state=49)</pre><b>In a Jupyter environment, please rerun this cell to show the HTML representation or trust the notebook. <br />On GitHub, the HTML representation is unable to render, please try loading this page with nbviewer.org.</b></div><div class=\"sk-container\" hidden><div class=\"sk-item\"><div class=\"sk-estimator sk-toggleable\"><input class=\"sk-toggleable__control sk-hidden--visually\" id=\"sk-estimator-id-2\" type=\"checkbox\" checked><label for=\"sk-estimator-id-2\" class=\"sk-toggleable__label sk-toggleable__label-arrow\">RandomForestRegressor</label><div class=\"sk-toggleable__content\"><pre>RandomForestRegressor(n_jobs=-1, random_state=49)</pre></div></div></div></div></div>"
      ],
      "text/plain": [
       "RandomForestRegressor(n_jobs=-1, random_state=49)"
      ]
     },
     "execution_count": 18,
     "metadata": {},
     "output_type": "execute_result"
    }
   ],
   "source": [
    "# Building Random Forest Regression Model\n",
    "clf = RandomForestRegressor(random_state = 49, n_jobs=-1)\n",
    "\n",
    "# Fit the data\n",
    "clf.fit(X_train, y_train)"
   ]
  },
  {
   "cell_type": "code",
   "execution_count": 19,
   "id": "9052a501",
   "metadata": {
    "execution": {
     "iopub.execute_input": "2023-08-21T19:50:32.709645Z",
     "iopub.status.busy": "2023-08-21T19:50:32.709230Z",
     "iopub.status.idle": "2023-08-21T19:50:33.091858Z",
     "shell.execute_reply": "2023-08-21T19:50:33.090927Z"
    },
    "papermill": {
     "duration": 0.394628,
     "end_time": "2023-08-21T19:50:33.094418",
     "exception": false,
     "start_time": "2023-08-21T19:50:32.699790",
     "status": "completed"
    },
    "tags": []
   },
   "outputs": [
    {
     "name": "stdout",
     "output_type": "stream",
     "text": [
      "RMSE Score: 156.327949218351\n"
     ]
    }
   ],
   "source": [
    "# Making predictions\n",
    "pred_PCA = clf.predict(X_test)\n",
    "\n",
    "# Measuring the accuracy of the model\n",
    "print(f'RMSE Score: {mean_squared_error(y_test, pred_PCA, squared=False)}') "
   ]
  },
  {
   "cell_type": "markdown",
   "id": "84554c33",
   "metadata": {
    "papermill": {
     "duration": 0.007467,
     "end_time": "2023-08-21T19:50:33.109936",
     "exception": false,
     "start_time": "2023-08-21T19:50:33.102469",
     "status": "completed"
    },
    "tags": []
   },
   "source": [
    "As seen from the MSE scores, applying PCA to the dataset did not improve the model built with original dataset as expected, but the MSE difference between two models is not so significant. Therefore, by reducing feature dimensions into 2, not so much of information are lost, which is the beauty of PCA."
   ]
  }
 ],
 "metadata": {
  "kernelspec": {
   "display_name": "Python 3",
   "language": "python",
   "name": "python3"
  },
  "language_info": {
   "codemirror_mode": {
    "name": "ipython",
    "version": 3
   },
   "file_extension": ".py",
   "mimetype": "text/x-python",
   "name": "python",
   "nbconvert_exporter": "python",
   "pygments_lexer": "ipython3",
   "version": "3.10.12"
  },
  "papermill": {
   "default_parameters": {},
   "duration": 268.005423,
   "end_time": "2023-08-21T19:50:34.140692",
   "environment_variables": {},
   "exception": null,
   "input_path": "__notebook__.ipynb",
   "output_path": "__notebook__.ipynb",
   "parameters": {},
   "start_time": "2023-08-21T19:46:06.135269",
   "version": "2.4.0"
  }
 },
 "nbformat": 4,
 "nbformat_minor": 5
}
